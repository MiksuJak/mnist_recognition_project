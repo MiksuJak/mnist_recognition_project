{
 "cells": [
  {
   "cell_type": "markdown",
   "metadata": {},
   "source": [
    "# Libraries + DATA"
   ]
  },
  {
   "cell_type": "code",
   "execution_count": 1,
   "metadata": {},
   "outputs": [],
   "source": [
    "from visualizations import *\n",
    "import numpy as np\n",
    "import pandas as pd\n",
    "import warnings\n",
    "from math import tau\n",
    "import matplotlib.pyplot as plt\n",
    "from scipy.integrate import quad\n",
    "warnings.filterwarnings('ignore')"
   ]
  },
  {
   "cell_type": "code",
   "execution_count": 2,
   "metadata": {},
   "outputs": [],
   "source": [
    "data = np.loadtxt(\"./../DATA/digits2k_pixels.data.gz\", ndmin=2)/255.0\n",
    "data.shape = (data.shape[0], int(np.sqrt(data.shape[1])), int(np.sqrt(data.shape[1])))\n",
    "labels = np.loadtxt(\"./../DATA/digits2k_pixels.labels.gz\", dtype='int')"
   ]
  },
  {
   "cell_type": "markdown",
   "metadata": {},
   "source": [
    "# Helpful functions"
   ]
  },
  {
   "cell_type": "code",
   "execution_count": 3,
   "metadata": {},
   "outputs": [],
   "source": [
    "def onlyBlackWhite(array, percentage = 0.3):\n",
    "    result = array.copy()\n",
    "    quantile = np.quantile(result[result>0], percentage)\n",
    "    for i in range(len(result)):\n",
    "        for j in range(len(result[0])):\n",
    "            if (result[i,j] < quantile):\n",
    "                result[i,j] = 0\n",
    "            else:\n",
    "                result[i,j] = 1\n",
    "    return result\n",
    "## By using quantiles, we reduce some noise near the number and away from the number\n",
    "## Empiric tests show that 0.3 quantile produces some nice results"
   ]
  },
  {
   "cell_type": "code",
   "execution_count": 4,
   "metadata": {},
   "outputs": [],
   "source": [
    "def get_longest_array(arr_list):\n",
    "    n = len(arr_list)\n",
    "    max_len = 0\n",
    "    max_i = 0\n",
    "    for i in range(n):\n",
    "        if len(arr_list[i]) > max_len:\n",
    "            max_len, max_i = len(arr_list[i]), i\n",
    "    return max_i"
   ]
  },
  {
   "cell_type": "code",
   "execution_count": 5,
   "metadata": {},
   "outputs": [],
   "source": [
    "def create_close_loop(image_array, level=[200]):\n",
    "\n",
    "    # Get Contour Path and create lookup-table\n",
    "    contour_paths = plt.contour(image_array, levels=level, colors='black', origin='image').collections[0].get_paths()\n",
    "    contour_path = contour_paths[get_longest_array(contour_paths)]\n",
    "    x_table, y_table = contour_path.vertices[:, 0], contour_path.vertices[:, 1]\n",
    "    time_table = np.linspace(0, tau, len(x_table))\n",
    "\n",
    "    # Simple method to center the image\n",
    "    x_table = x_table - min(x_table)\n",
    "    y_table = y_table - min(y_table)\n",
    "    x_table = x_table - max(x_table) / 2\n",
    "    y_table = y_table - max(y_table) / 2\n",
    "\n",
    "    return time_table, x_table, y_table"
   ]
  },
  {
   "cell_type": "markdown",
   "metadata": {},
   "source": [
    "### Some fourier series generating functions (explained in other scripts)"
   ]
  },
  {
   "cell_type": "code",
   "execution_count": 6,
   "metadata": {},
   "outputs": [],
   "source": [
    "def f(t, time_table, x_table, y_table):\n",
    "    return interp(t, time_table, x_table) + 1j*interp(t, time_table, y_table)\n",
    "\n",
    "def coef_list(time_table, x_table, y_table, order=10):\n",
    "    \"\"\"\n",
    "    Counting c_n coefficients of Fourier series, of function aproximated by points (time_table, x_table + j*y_table)\n",
    "    of order of magnitude = order\n",
    "    \"\"\"\n",
    "    coef_list = []\n",
    "    for n in range(-order, order+1):\n",
    "        real_coef = quad(lambda t: np.real(f(t, time_table, x_table, y_table) * np.exp(-n*1j*t)), 0, tau, limit=100, full_output=1)[0]/tau\n",
    "        imag_coef = quad(lambda t: np.imag(f(t, time_table, x_table, y_table) * np.exp(-n*1j*t)), 0, tau, limit=100, full_output=1)[0]/tau\n",
    "        coef_list.append([real_coef, imag_coef])\n",
    "    return np.array(coef_list)"
   ]
  },
  {
   "cell_type": "markdown",
   "metadata": {},
   "source": [
    "# Generating"
   ]
  },
  {
   "cell_type": "markdown",
   "metadata": {},
   "source": [
    "This time, we will use Fourier series, not to get coefficients in the result, but first points of the Fourier Shape Description, then their distances from the centroids"
   ]
  },
  {
   "cell_type": "markdown",
   "metadata": {},
   "source": [
    "#### Now we also need functions for: interpolation of n points from fourier series, finding radiuses of centroid distances of these points."
   ]
  },
  {
   "cell_type": "code",
   "execution_count": 7,
   "metadata": {},
   "outputs": [],
   "source": [
    "def DFT(t, coef_list, order=10):\n",
    "    \"\"\"\n",
    "    get points of Fourier series aproximation, where t is a time argument for which we want to get (from range[0, tau])\n",
    "    \"\"\"\n",
    "    kernel = np.array([np.exp(-n*1j*t) for n in range(-order, order+1)])\n",
    "    series = np.sum( (coef_list[:,0]+1j*coef_list[:,1]) * kernel[:])\n",
    "    return np.real(series), np.imag(series)"
   ]
  },
  {
   "cell_type": "code",
   "execution_count": 8,
   "metadata": {},
   "outputs": [],
   "source": [
    "def GenerateShapePoints(coef_list, n=100):\n",
    "    time_space = np.linspace(0, tau, n)\n",
    "    x_DFT = [DFT(t, coef)[0] for t in time_space]\n",
    "    y_DFT = [DFT(t, coef)[1] for t in time_space]\n",
    "    return x_DFT, y_DFT"
   ]
  },
  {
   "cell_type": "markdown",
   "metadata": {},
   "source": [
    "##### Test"
   ]
  },
  {
   "cell_type": "code",
   "execution_count": 9,
   "metadata": {},
   "outputs": [
    {
     "ename": "NameError",
     "evalue": "name 'i' is not defined",
     "output_type": "error",
     "traceback": [
      "\u001b[1;31m---------------------------------------------------------------------------\u001b[0m",
      "\u001b[1;31mNameError\u001b[0m                                 Traceback (most recent call last)",
      "\u001b[1;32m<ipython-input-9-677d70ca816d>\u001b[0m in \u001b[0;36m<module>\u001b[1;34m\u001b[0m\n\u001b[1;32m----> 1\u001b[1;33m \u001b[0mcopied\u001b[0m \u001b[1;33m=\u001b[0m \u001b[0monlyBlackWhite\u001b[0m\u001b[1;33m(\u001b[0m\u001b[0mdata\u001b[0m\u001b[1;33m[\u001b[0m\u001b[0mi\u001b[0m\u001b[1;33m,\u001b[0m\u001b[1;33m:\u001b[0m\u001b[1;33m,\u001b[0m\u001b[1;33m:\u001b[0m\u001b[1;33m]\u001b[0m\u001b[1;33m)\u001b[0m\u001b[1;33m\u001b[0m\u001b[1;33m\u001b[0m\u001b[0m\n\u001b[0m\u001b[0;32m      2\u001b[0m \u001b[0mtime_table\u001b[0m\u001b[1;33m,\u001b[0m \u001b[0mx_table\u001b[0m\u001b[1;33m,\u001b[0m \u001b[0my_table\u001b[0m \u001b[1;33m=\u001b[0m \u001b[0mcreate_close_loop\u001b[0m\u001b[1;33m(\u001b[0m\u001b[0mcopied\u001b[0m\u001b[1;33m)\u001b[0m\u001b[1;33m\u001b[0m\u001b[1;33m\u001b[0m\u001b[0m\n\u001b[0;32m      3\u001b[0m \u001b[0mcoef\u001b[0m \u001b[1;33m=\u001b[0m \u001b[0mcoef_list\u001b[0m\u001b[1;33m(\u001b[0m\u001b[0mtime_table\u001b[0m\u001b[1;33m,\u001b[0m \u001b[0mx_table\u001b[0m\u001b[1;33m,\u001b[0m \u001b[0my_table\u001b[0m\u001b[1;33m,\u001b[0m \u001b[0morder\u001b[0m\u001b[1;33m=\u001b[0m\u001b[1;36m10\u001b[0m\u001b[1;33m)\u001b[0m\u001b[1;33m\u001b[0m\u001b[1;33m\u001b[0m\u001b[0m\n\u001b[0;32m      4\u001b[0m \u001b[0mX\u001b[0m\u001b[1;33m,\u001b[0m \u001b[0mY\u001b[0m \u001b[1;33m=\u001b[0m \u001b[0mGenerateShapePoints\u001b[0m\u001b[1;33m(\u001b[0m\u001b[0mcoef\u001b[0m\u001b[1;33m,\u001b[0m \u001b[0mn\u001b[0m\u001b[1;33m=\u001b[0m\u001b[1;36m30\u001b[0m\u001b[1;33m)\u001b[0m\u001b[1;33m\u001b[0m\u001b[1;33m\u001b[0m\u001b[0m\n\u001b[0;32m      5\u001b[0m \u001b[0mplt\u001b[0m\u001b[1;33m.\u001b[0m\u001b[0mplot\u001b[0m\u001b[1;33m(\u001b[0m\u001b[0mX\u001b[0m\u001b[1;33m,\u001b[0m \u001b[0mY\u001b[0m\u001b[1;33m,\u001b[0m \u001b[1;34m'-o'\u001b[0m\u001b[1;33m)\u001b[0m\u001b[1;33m\u001b[0m\u001b[1;33m\u001b[0m\u001b[0m\n",
      "\u001b[1;31mNameError\u001b[0m: name 'i' is not defined"
     ]
    }
   ],
   "source": [
    "copied = onlyBlackWhite(data[i,:,:])\n",
    "time_table, x_table, y_table = create_close_loop(copied)\n",
    "coef = coef_list(time_table, x_table, y_table, order=10)\n",
    "X, Y = GenerateShapePoints(coef, n=30)\n",
    "plt.plot(X, Y, '-o')\n",
    "## n = 30 describes the number well enough (we still want to do it in reasonable time)"
   ]
  },
  {
   "cell_type": "markdown",
   "metadata": {},
   "source": [
    "### Now a function generating centroid distances"
   ]
  },
  {
   "cell_type": "markdown",
   "metadata": {},
   "source": [
    "Maybe here is a good moment to explain why we use this method. According to https://cis.temple.edu/~lakamper/courses/cis9601_2009/etc/fourierShape.pdf it simply gives best results when comparing shapes using Fourier transformations. It's a really well written article on the topic, I strongly reccomened getting some insights."
   ]
  },
  {
   "cell_type": "code",
   "execution_count": 10,
   "metadata": {},
   "outputs": [],
   "source": [
    "import math"
   ]
  },
  {
   "cell_type": "code",
   "execution_count": 14,
   "metadata": {},
   "outputs": [],
   "source": [
    "def measureDistancesFromCentroids(coef_list, N=30):\n",
    "    X, Y = GenerateShapePoints(coef_list, n=N)\n",
    "    x_centroid = np.mean(X)\n",
    "    y_centroid = np.mean(Y)\n",
    "    centr_r = []\n",
    "    \n",
    "    for i in range(N):\n",
    "        x_dist_sq = (X[i] - x_centroid)**2\n",
    "        y_dist_sq = (Y[i] - y_centroid)**2\n",
    "        centr_r.append(math.sqrt(x_dist_sq + y_dist_sq))\n",
    "    \n",
    "    return np.array(centr_r)"
   ]
  },
  {
   "cell_type": "markdown",
   "metadata": {},
   "source": [
    "## Let's proceed to actual generating"
   ]
  },
  {
   "cell_type": "code",
   "execution_count": 15,
   "metadata": {},
   "outputs": [],
   "source": [
    "i_gen = np.linspace(0, len(data)-1, len(data)).astype(int)"
   ]
  },
  {
   "cell_type": "code",
   "execution_count": 16,
   "metadata": {},
   "outputs": [
    {
     "name": "stdout",
     "output_type": "stream",
     "text": [
      "0\n",
      "100\n",
      "200\n",
      "300\n",
      "400\n",
      "500\n",
      "600\n",
      "700\n",
      "800\n",
      "900\n",
      "1000\n",
      "1100\n",
      "1200\n",
      "1300\n",
      "1400\n",
      "1500\n",
      "1600\n",
      "1700\n",
      "1800\n",
      "1900\n"
     ]
    },
    {
     "data": {
      "image/png": "[encoded data removed]",
      "text/plain": [
       "<Figure size 432x288 with 1 Axes>"
      ]
     },
     "metadata": {
      "needs_background": "light"
     },
     "output_type": "display_data"
    }
   ],
   "source": [
    "centr_radiuses = []\n",
    "for i in i_gen:\n",
    "    copied = onlyBlackWhite(data[i,:,:])\n",
    "    time_table, x_table, y_table = create_close_loop(copied)\n",
    "    coef = coef_list(time_table, x_table, y_table, order=10)\n",
    "    centr_radiuses.append(measureDistancesFromCentroids(coef, N=50))\n",
    "    if i%100 == 0:\n",
    "        print(i)\n",
    "\n",
    "np.save(file='centroid_distances_N_50', arr=centr_radiuses)"
   ]
  },
  {
   "cell_type": "markdown",
   "metadata": {},
   "source": [
    "GOT IT!"
   ]
  }
 ],
 "metadata": {
  "kernelspec": {
   "display_name": "Python 3",
   "language": "python",
   "name": "python3"
  },
  "language_info": {
   "codemirror_mode": {
    "name": "ipython",
    "version": 3
   },
   "file_extension": ".py",
   "mimetype": "text/x-python",
   "name": "python",
   "nbconvert_exporter": "python",
   "pygments_lexer": "ipython3",
   "version": "3.7.6"
  }
 },
 "nbformat": 4,
 "nbformat_minor": 2
}
