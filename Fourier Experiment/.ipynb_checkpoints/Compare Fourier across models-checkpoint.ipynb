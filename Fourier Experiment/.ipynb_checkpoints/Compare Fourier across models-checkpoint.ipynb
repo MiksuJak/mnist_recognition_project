{
 "cells": [
  {
   "cell_type": "markdown",
   "metadata": {},
   "source": [
    "# Intro"
   ]
  },
  {
   "cell_type": "markdown",
   "metadata": {},
   "source": [
    "Since all data is preprocessed, and datasets for thresholds [0.5, 0.9] are ready we can proceed into comparing results in different clustering models."
   ]
  },
  {
   "cell_type": "markdown",
   "metadata": {},
   "source": [
    "# Libraries"
   ]
  },
  {
   "cell_type": "code",
   "execution_count": 1,
   "metadata": {},
   "outputs": [],
   "source": [
    "import numpy as np\n",
    "import pandas as pd\n",
    "import warnings\n",
    "from math import tau\n",
    "from scipy.integrate import quad\n",
    "warnings.filterwarnings('ignore')"
   ]
  },
  {
   "cell_type": "markdown",
   "metadata": {},
   "source": [
    "# Data"
   ]
  },
  {
   "cell_type": "code",
   "execution_count": 2,
   "metadata": {},
   "outputs": [],
   "source": [
    "data = np.loadtxt(\"./../DATA/digits2k_pixels.data.gz\", ndmin=2)/255.0\n",
    "data.shape = (data.shape[0], int(np.sqrt(data.shape[1])), int(np.sqrt(data.shape[1])))\n",
    "labels = np.loadtxt(\"./../DATA/digits2k_pixels.labels.gz\", dtype='int')"
   ]
  },
  {
   "cell_type": "code",
   "execution_count": 3,
   "metadata": {},
   "outputs": [],
   "source": [
    "coef_05 = np.load('SETS/Fourier_depth_10_th_0.5.npy')\n",
    "coef_06 = np.load('SETS/Fourier_depth_10_th_0.6.npy')\n",
    "coef_07 = np.load('SETS/Fourier_depth_10_th_0.7.npy')\n",
    "coef_08 = np.load('SETS/Fourier_depth_10_th_0.8.npy')\n",
    "coef_09 = np.load('SETS/Fourier_depth_10_th_0.9.npy')\n",
    "coef_dict = dict()\n",
    "coef_dict['05'] = coef_05\n",
    "coef_dict['06'] = coef_06\n",
    "coef_dict['07'] = coef_07\n",
    "coef_dict['08'] = coef_08\n",
    "coef_dict['09'] = coef_09"
   ]
  },
  {
   "cell_type": "markdown",
   "metadata": {},
   "source": [
    "# Functions needed"
   ]
  },
  {
   "cell_type": "markdown",
   "metadata": {},
   "source": [
    "## Metrics between Fourier Series"
   ]
  },
  {
   "cell_type": "code",
   "execution_count": 4,
   "metadata": {},
   "outputs": [],
   "source": [
    "def find_mse_radius(coef_1, coef_2, **order):\n",
    "    real_1 = coef_1[:, 0]\n",
    "    imag_1 = coef_1[:, 1]\n",
    "    real_2 = coef_2[:, 0]\n",
    "    imag_2 = coef_2[:, 1]\n",
    "    radius_1 = np.sqrt(real_1**2 + imag_1**2)\n",
    "    radius_2 = np.sqrt(real_2**2 + imag_2**2)\n",
    "    diff_radius = (radius_2-radius_1)**2\n",
    "    return np.sqrt(np.sum(diff_radius))"
   ]
  },
  {
   "cell_type": "code",
   "execution_count": 5,
   "metadata": {},
   "outputs": [],
   "source": [
    "def find_mse_distance(coef_1, coef_2, **order):\n",
    "    real_1 = coef_1[:, 0]\n",
    "    imag_1 = coef_1[:, 1]\n",
    "    real_2 = coef_2[:, 0]\n",
    "    imag_2 = coef_2[:, 1]\n",
    "    diff_real = (real_2 - real_1)**2\n",
    "    diff_imag = (imag_2 - imag_1)**2\n",
    "    return np.sqrt(np.sum(diff_real+diff_imag))"
   ]
  },
  {
   "cell_type": "code",
   "execution_count": 6,
   "metadata": {},
   "outputs": [],
   "source": [
    "def find_mse_coef_order(coef_1, coef_2, order):\n",
    "    kernel = np.array([np.exp(-n*1j) for n in range(-order, order+1)])\n",
    "    series_1 = (coef_1[:,0]+1j*coef_1[:,1]) * kernel[:]\n",
    "    series_2 = (coef_2[:,0]+1j*coef_2[:,1]) * kernel[:]\n",
    "    real_1, imag_1 = np.real(series_1), np.imag(series_1)\n",
    "    real_2, imag_2 = np.real(series_2), np.imag(series_2)\n",
    "    diff_real = real_2 - real_1\n",
    "    diff_imag = imag_2 - imag_1\n",
    "    diff_real *= diff_real\n",
    "    diff_imag *= diff_imag\n",
    "    return np.sum(np.sqrt(diff_real+diff_imag))"
   ]
  },
  {
   "cell_type": "code",
   "execution_count": 7,
   "metadata": {},
   "outputs": [],
   "source": [
    "def find_mse_radius_order(coef_1, coef_2, order):\n",
    "    kernel = np.array([np.exp(-n*1j) for n in range(-order, order+1)])\n",
    "    series_1 = (coef_1[:,0]+1j*coef_1[:,1]) * kernel[:]\n",
    "    series_2 = (coef_2[:,0]+1j*coef_2[:,1]) * kernel[:]\n",
    "    real_1, imag_1 = np.real(series_1), np.imag(series_1)\n",
    "    real_2, imag_2 = np.real(series_2), np.imag(series_2)\n",
    "    radius_1 = np.sqrt(real_1**2 + imag_1**2)\n",
    "    radius_2 = np.sqrt(real_2**2 + imag_2**2)\n",
    "    diff_radius = (radius_2-radius_1)**2\n",
    "    return np.sqrt(np.sum(diff_radius))"
   ]
  },
  {
   "cell_type": "markdown",
   "metadata": {},
   "source": [
    "## Scoring of models"
   ]
  },
  {
   "cell_type": "code",
   "execution_count": 20,
   "metadata": {},
   "outputs": [],
   "source": [
    "def labelDiversity(labels_pred):\n",
    "    labels_in_clusters = np.bincount(labels_pred)\n",
    "    return np.std(labels_in_clusters)"
   ]
  },
  {
   "cell_type": "code",
   "execution_count": 34,
   "metadata": {},
   "outputs": [],
   "source": [
    "def dominanceOfPredictedClusters(labels_pred, labels_true):\n",
    "    clusters = np.unique(labels_pred)\n",
    "    cluster_dominance = []\n",
    "    for l in clusters:\n",
    "        labels_in_cluster = np.bincount(labels[np.where(labels_pred==l)])\n",
    "        cluster_dominance.append(np.max(labels_in_cluster)/np.sum(labels_in_cluster))\n",
    "    return np.mean(cluster_dominance)"
   ]
  },
  {
   "cell_type": "markdown",
   "metadata": {},
   "source": [
    "## Distance Matrix"
   ]
  },
  {
   "cell_type": "code",
   "execution_count": 35,
   "metadata": {},
   "outputs": [],
   "source": [
    "def createDistanceMatrix(coef_data, metric, order = 10):\n",
    "    n = len(coef_data)\n",
    "    dist_matrix = np.empty([n, n])\n",
    "    for i in range(0, n):\n",
    "        for j in range(i, n):\n",
    "            dist_matrix[i, j] = metric(coef_data[i], coef_data[j], order=order)\n",
    "            dist_matrix[j, i] = dist_matrix[i, j]\n",
    "    return dist_matrix"
   ]
  },
  {
   "cell_type": "markdown",
   "metadata": {},
   "source": [
    "# Model base"
   ]
  },
  {
   "cell_type": "code",
   "execution_count": 36,
   "metadata": {},
   "outputs": [],
   "source": [
    "from sklearn.cluster import *"
   ]
  },
  {
   "cell_type": "code",
   "execution_count": 37,
   "metadata": {},
   "outputs": [],
   "source": [
    "n = 10\n",
    "clustering_models = dict()"
   ]
  },
  {
   "cell_type": "code",
   "execution_count": 38,
   "metadata": {},
   "outputs": [],
   "source": [
    "#Kmeans\n",
    "clustering_models['Kmeans_auto'] = KMeans(n_clusters=n, random_state=0, algorithm='auto', n_jobs=-1)\n",
    "clustering_models['Kmeans_full'] = KMeans(n_clusters=n, random_state=0, algorithm='full', n_jobs=-1)\n",
    "clustering_models['Kmeans_elkan'] = KMeans(n_clusters=n, random_state=0, algorithm='elkan', n_jobs=-1)"
   ]
  },
  {
   "cell_type": "code",
   "execution_count": 39,
   "metadata": {},
   "outputs": [],
   "source": [
    "#Agglomerative\n",
    "clustering_models['Aggl_ward'] = AgglomerativeClustering(n_clusters=n, linkage='ward')\n",
    "clustering_models['Aggl_complete'] = AgglomerativeClustering(n_clusters=n, linkage='complete')\n",
    "clustering_models['Aggl_average'] = AgglomerativeClustering(n_clusters=n, linkage='average')\n",
    "clustering_models['Aggl_single'] = AgglomerativeClustering(n_clusters=n, linkage='single')"
   ]
  },
  {
   "cell_type": "code",
   "execution_count": 40,
   "metadata": {},
   "outputs": [],
   "source": [
    "#DBSCAN need to normalize matrix first"
   ]
  },
  {
   "cell_type": "code",
   "execution_count": 41,
   "metadata": {},
   "outputs": [],
   "source": [
    "#OPTICS cant define number of clusters"
   ]
  },
  {
   "cell_type": "markdown",
   "metadata": {},
   "source": [
    "# Testing"
   ]
  },
  {
   "cell_type": "code",
   "execution_count": 42,
   "metadata": {},
   "outputs": [],
   "source": [
    "labels_true = labels"
   ]
  },
  {
   "cell_type": "code",
   "execution_count": 43,
   "metadata": {},
   "outputs": [
    {
     "name": "stdout",
     "output_type": "stream",
     "text": [
      "SET: 05 Model: Kmeans_auto Metric: mse_radius Diversity: 107.89161227824896 Dominance: 0.5421049496048028\n",
      "SET: 05 Model: Kmeans_auto Metric: mse_distance Diversity: 76.78150819044909 Dominance: 0.46362542037766435\n",
      "SET: 05 Model: Kmeans_auto Metric: mse_distance_ord Diversity: 87.04826247547966 Dominance: 0.5124655695236109\n",
      "SET: 05 Model: Kmeans_auto Metric: mse_radius_ord Diversity: 107.89161227824896 Dominance: 0.5421049496048028\n",
      "SET: 05 Model: Kmeans_full Metric: mse_radius Diversity: 107.89161227824896 Dominance: 0.5421049496048028\n",
      "SET: 05 Model: Kmeans_full Metric: mse_distance Diversity: 76.78150819044909 Dominance: 0.46362542037766435\n",
      "SET: 05 Model: Kmeans_full Metric: mse_distance_ord Diversity: 87.04826247547966 Dominance: 0.5124655695236109\n",
      "SET: 05 Model: Kmeans_full Metric: mse_radius_ord Diversity: 107.89161227824896 Dominance: 0.5421049496048028\n",
      "SET: 05 Model: Kmeans_elkan Metric: mse_radius Diversity: 107.89161227824896 Dominance: 0.5421049496048028\n",
      "SET: 05 Model: Kmeans_elkan Metric: mse_distance Diversity: 76.78150819044909 Dominance: 0.46362542037766435\n",
      "SET: 05 Model: Kmeans_elkan Metric: mse_distance_ord Diversity: 87.04826247547966 Dominance: 0.5124655695236109\n",
      "SET: 05 Model: Kmeans_elkan Metric: mse_radius_ord Diversity: 107.89161227824896 Dominance: 0.5421049496048028\n",
      "SET: 05 Model: Aggl_ward Metric: mse_radius Diversity: 97.7957054271812 Dominance: 0.5483710126591462\n",
      "SET: 05 Model: Aggl_ward Metric: mse_distance Diversity: 111.2762328621885 Dominance: 0.5103007515542932\n",
      "SET: 05 Model: Aggl_ward Metric: mse_distance_ord Diversity: 111.5015694956802 Dominance: 0.5661571784389485\n",
      "SET: 05 Model: Aggl_ward Metric: mse_radius_ord Diversity: 97.7957054271812 Dominance: 0.5483710126591462\n",
      "SET: 05 Model: Aggl_complete Metric: mse_radius Diversity: 198.7209098207836 Dominance: 0.5100750761835622\n",
      "SET: 05 Model: Aggl_complete Metric: mse_distance Diversity: 222.20531046759436 Dominance: 0.45647490946518826\n",
      "SET: 05 Model: Aggl_complete Metric: mse_distance_ord Diversity: 230.39140608972374 Dominance: 0.45518923718781235\n",
      "SET: 05 Model: Aggl_complete Metric: mse_radius_ord Diversity: 198.7209098207836 Dominance: 0.5100750761835622\n",
      "SET: 05 Model: Aggl_average Metric: mse_radius Diversity: 226.40936376395743 Dominance: 0.5563262291475068\n",
      "SET: 05 Model: Aggl_average Metric: mse_distance Diversity: 253.9007680177435 Dominance: 0.48101531404297654\n",
      "SET: 05 Model: Aggl_average Metric: mse_distance_ord Diversity: 235.08849397620463 Dominance: 0.5071198877587203\n",
      "SET: 05 Model: Aggl_average Metric: mse_radius_ord Diversity: 226.40936376395743 Dominance: 0.5563262291475068\n",
      "SET: 05 Model: Aggl_single Metric: mse_radius Diversity: 590.0096609378528 Dominance: 0.7815071307710901\n",
      "SET: 05 Model: Aggl_single Metric: mse_distance Diversity: 588.050678088207 Dominance: 0.9037942219204949\n",
      "SET: 05 Model: Aggl_single Metric: mse_distance_ord Diversity: 588.050678088207 Dominance: 0.8537942219204948\n",
      "SET: 05 Model: Aggl_single Metric: mse_radius_ord Diversity: 590.0096609378528 Dominance: 0.7815071307710901\n",
      "SET: 06 Model: Kmeans_auto Metric: mse_radius Diversity: 106.35130464644051 Dominance: 0.5390841716623797\n",
      "SET: 06 Model: Kmeans_auto Metric: mse_distance Diversity: 76.9779189118542 Dominance: 0.4518102821067049\n",
      "SET: 06 Model: Kmeans_auto Metric: mse_distance_ord Diversity: 88.7862601982987 Dominance: 0.49156017740727564\n",
      "SET: 06 Model: Kmeans_auto Metric: mse_radius_ord Diversity: 106.35130464644051 Dominance: 0.5390841716623797\n",
      "SET: 06 Model: Kmeans_full Metric: mse_radius Diversity: 106.35130464644051 Dominance: 0.5390841716623797\n",
      "SET: 06 Model: Kmeans_full Metric: mse_distance Diversity: 76.9779189118542 Dominance: 0.4518102821067049\n",
      "SET: 06 Model: Kmeans_full Metric: mse_distance_ord Diversity: 88.7862601982987 Dominance: 0.49156017740727564\n",
      "SET: 06 Model: Kmeans_full Metric: mse_radius_ord Diversity: 106.35130464644051 Dominance: 0.5390841716623797\n",
      "SET: 06 Model: Kmeans_elkan Metric: mse_radius Diversity: 106.35130464644051 Dominance: 0.5390841716623797\n",
      "SET: 06 Model: Kmeans_elkan Metric: mse_distance Diversity: 76.9779189118542 Dominance: 0.4518102821067049\n",
      "SET: 06 Model: Kmeans_elkan Metric: mse_distance_ord Diversity: 88.7862601982987 Dominance: 0.49156017740727564\n",
      "SET: 06 Model: Kmeans_elkan Metric: mse_radius_ord Diversity: 106.35130464644051 Dominance: 0.5390841716623797\n",
      "SET: 06 Model: Aggl_ward Metric: mse_radius Diversity: 90.64766957842876 Dominance: 0.5393007025813741\n",
      "SET: 06 Model: Aggl_ward Metric: mse_distance Diversity: 95.88951976102497 Dominance: 0.5274428933997681\n",
      "SET: 06 Model: Aggl_ward Metric: mse_distance_ord Diversity: 96.66643678133585 Dominance: 0.5285943211226523\n",
      "SET: 06 Model: Aggl_ward Metric: mse_radius_ord Diversity: 90.64766957842876 Dominance: 0.5393007025813741\n",
      "SET: 06 Model: Aggl_complete Metric: mse_radius Diversity: 229.7037222162497 Dominance: 0.5000181836571719\n",
      "SET: 06 Model: Aggl_complete Metric: mse_distance Diversity: 193.20610756391736 Dominance: 0.4775904996401371\n",
      "SET: 06 Model: Aggl_complete Metric: mse_distance_ord Diversity: 235.66459216437246 Dominance: 0.4618104915862876\n",
      "SET: 06 Model: Aggl_complete Metric: mse_radius_ord Diversity: 229.7037222162497 Dominance: 0.5000181836571719\n",
      "SET: 06 Model: Aggl_average Metric: mse_radius Diversity: 283.54470546987824 Dominance: 0.5379953868625312\n",
      "SET: 06 Model: Aggl_average Metric: mse_distance Diversity: 184.53021432816902 Dominance: 0.5691097305665741\n",
      "SET: 06 Model: Aggl_average Metric: mse_distance_ord Diversity: 205.15896275815004 Dominance: 0.5641732556604706\n",
      "SET: 06 Model: Aggl_average Metric: mse_radius_ord Diversity: 283.54470546987824 Dominance: 0.5379953868625312\n",
      "SET: 06 Model: Aggl_single Metric: mse_radius Diversity: 596.6667411545577 Dominance: 0.911105527638191\n",
      "SET: 06 Model: Aggl_single Metric: mse_distance Diversity: 588.7138523935037 Dominance: 0.9034979262853119\n",
      "SET: 06 Model: Aggl_single Metric: mse_distance_ord Diversity: 588.7138523935037 Dominance: 0.9034979262853119\n",
      "SET: 06 Model: Aggl_single Metric: mse_radius_ord Diversity: 596.6667411545577 Dominance: 0.911105527638191\n",
      "SET: 07 Model: Kmeans_auto Metric: mse_radius Diversity: 117.76502027342414 Dominance: 0.5217329771964381\n",
      "SET: 07 Model: Kmeans_auto Metric: mse_distance Diversity: 88.23944696109558 Dominance: 0.43547062016654375\n",
      "SET: 07 Model: Kmeans_auto Metric: mse_distance_ord Diversity: 93.27593473131212 Dominance: 0.5403113880842801\n",
      "SET: 07 Model: Kmeans_auto Metric: mse_radius_ord Diversity: 117.76502027342414 Dominance: 0.5217329771964381\n",
      "SET: 07 Model: Kmeans_full Metric: mse_radius Diversity: 117.76502027342414 Dominance: 0.5217329771964381\n",
      "SET: 07 Model: Kmeans_full Metric: mse_distance Diversity: 88.23944696109558 Dominance: 0.43547062016654375\n",
      "SET: 07 Model: Kmeans_full Metric: mse_distance_ord Diversity: 93.27593473131212 Dominance: 0.5403113880842801\n",
      "SET: 07 Model: Kmeans_full Metric: mse_radius_ord Diversity: 117.76502027342414 Dominance: 0.5217329771964381\n",
      "SET: 07 Model: Kmeans_elkan Metric: mse_radius Diversity: 117.76502027342414 Dominance: 0.5217329771964381\n",
      "SET: 07 Model: Kmeans_elkan Metric: mse_distance Diversity: 88.23944696109558 Dominance: 0.43547062016654375\n",
      "SET: 07 Model: Kmeans_elkan Metric: mse_distance_ord Diversity: 93.27593473131212 Dominance: 0.5403113880842801\n",
      "SET: 07 Model: Kmeans_elkan Metric: mse_radius_ord Diversity: 117.76502027342414 Dominance: 0.5217329771964381\n",
      "SET: 07 Model: Aggl_ward Metric: mse_radius Diversity: 106.31274617843337 Dominance: 0.538218530123421\n",
      "SET: 07 Model: Aggl_ward Metric: mse_distance Diversity: 136.04484554734148 Dominance: 0.5048394317571728\n",
      "SET: 07 Model: Aggl_ward Metric: mse_distance_ord Diversity: 89.9077304796423 Dominance: 0.551025616826803\n",
      "SET: 07 Model: Aggl_ward Metric: mse_radius_ord Diversity: 106.31274617843337 Dominance: 0.538218530123421\n",
      "SET: 07 Model: Aggl_complete Metric: mse_radius Diversity: 196.96751001116908 Dominance: 0.5169901112367478\n",
      "SET: 07 Model: Aggl_complete Metric: mse_distance Diversity: 275.7738203673438 Dominance: 0.5123364883814006\n",
      "SET: 07 Model: Aggl_complete Metric: mse_distance_ord Diversity: 189.78988381892222 Dominance: 0.43312862474410635\n",
      "SET: 07 Model: Aggl_complete Metric: mse_radius_ord Diversity: 196.96751001116908 Dominance: 0.5169901112367478\n"
     ]
    },
    {
     "name": "stdout",
     "output_type": "stream",
     "text": [
      "SET: 07 Model: Aggl_average Metric: mse_radius Diversity: 218.34651359708036 Dominance: 0.503544326524601\n",
      "SET: 07 Model: Aggl_average Metric: mse_distance Diversity: 311.6549373906982 Dominance: 0.6142783126331619\n",
      "SET: 07 Model: Aggl_average Metric: mse_distance_ord Diversity: 228.85322807423975 Dominance: 0.4753654239002896\n",
      "SET: 07 Model: Aggl_average Metric: mse_radius_ord Diversity: 218.34651359708036 Dominance: 0.503544326524601\n",
      "SET: 07 Model: Aggl_single Metric: mse_radius Diversity: 596.6667411545577 Dominance: 0.8611557788944724\n",
      "SET: 07 Model: Aggl_single Metric: mse_distance Diversity: 589.3625369838161 Dominance: 0.8611788617886178\n",
      "SET: 07 Model: Aggl_single Metric: mse_distance_ord Diversity: 589.3694936116053 Dominance: 0.8611788617886178\n",
      "SET: 07 Model: Aggl_single Metric: mse_radius_ord Diversity: 596.6667411545577 Dominance: 0.8611557788944724\n",
      "SET: 08 Model: Kmeans_auto Metric: mse_radius Diversity: 107.63456693832146 Dominance: 0.4871462283515572\n",
      "SET: 08 Model: Kmeans_auto Metric: mse_distance Diversity: 78.79847714264534 Dominance: 0.43653483538163584\n",
      "SET: 08 Model: Kmeans_auto Metric: mse_distance_ord Diversity: 74.82379300730484 Dominance: 0.45896451439642255\n",
      "SET: 08 Model: Kmeans_auto Metric: mse_radius_ord Diversity: 107.63456693832146 Dominance: 0.4871462283515572\n",
      "SET: 08 Model: Kmeans_full Metric: mse_radius Diversity: 107.63456693832146 Dominance: 0.4871462283515572\n",
      "SET: 08 Model: Kmeans_full Metric: mse_distance Diversity: 78.79847714264534 Dominance: 0.43653483538163584\n",
      "SET: 08 Model: Kmeans_full Metric: mse_distance_ord Diversity: 74.82379300730484 Dominance: 0.45896451439642255\n",
      "SET: 08 Model: Kmeans_full Metric: mse_radius_ord Diversity: 107.63456693832146 Dominance: 0.4871462283515572\n",
      "SET: 08 Model: Kmeans_elkan Metric: mse_radius Diversity: 107.63456693832146 Dominance: 0.4871462283515572\n",
      "SET: 08 Model: Kmeans_elkan Metric: mse_distance Diversity: 78.79847714264534 Dominance: 0.43653483538163584\n",
      "SET: 08 Model: Kmeans_elkan Metric: mse_distance_ord Diversity: 74.82379300730484 Dominance: 0.45896451439642255\n",
      "SET: 08 Model: Kmeans_elkan Metric: mse_radius_ord Diversity: 107.63456693832146 Dominance: 0.4871462283515572\n",
      "SET: 08 Model: Aggl_ward Metric: mse_radius Diversity: 127.29807539786295 Dominance: 0.5190324138992058\n",
      "SET: 08 Model: Aggl_ward Metric: mse_distance Diversity: 121.14206536129389 Dominance: 0.5058565017114323\n",
      "SET: 08 Model: Aggl_ward Metric: mse_distance_ord Diversity: 89.72402130979195 Dominance: 0.504173790476854\n",
      "SET: 08 Model: Aggl_ward Metric: mse_radius_ord Diversity: 127.29807539786295 Dominance: 0.5190324138992058\n",
      "SET: 08 Model: Aggl_complete Metric: mse_radius Diversity: 258.4639239816652 Dominance: 0.4760140785483472\n",
      "SET: 08 Model: Aggl_complete Metric: mse_distance Diversity: 277.3989906254167 Dominance: 0.5235060612826727\n",
      "SET: 08 Model: Aggl_complete Metric: mse_distance_ord Diversity: 211.862691382886 Dominance: 0.46549214833459435\n",
      "SET: 08 Model: Aggl_complete Metric: mse_radius_ord Diversity: 258.4639239816652 Dominance: 0.4760140785483472\n",
      "SET: 08 Model: Aggl_average Metric: mse_radius Diversity: 241.20779423559264 Dominance: 0.5740984203893418\n",
      "SET: 08 Model: Aggl_average Metric: mse_distance Diversity: 257.91665320409226 Dominance: 0.6186780225143804\n",
      "SET: 08 Model: Aggl_average Metric: mse_distance_ord Diversity: 255.09292424526402 Dominance: 0.5873893853278545\n",
      "SET: 08 Model: Aggl_average Metric: mse_radius_ord Diversity: 241.20779423559264 Dominance: 0.5740984203893418\n",
      "SET: 08 Model: Aggl_single Metric: mse_radius Diversity: 595.6673568360112 Dominance: 0.8611222949169601\n",
      "SET: 08 Model: Aggl_single Metric: mse_distance Diversity: 589.6904272582352 Dominance: 0.861173184357542\n",
      "SET: 08 Model: Aggl_single Metric: mse_distance_ord Diversity: 591.0243649799896 Dominance: 0.9111505321844906\n",
      "SET: 08 Model: Aggl_single Metric: mse_radius_ord Diversity: 595.6673568360112 Dominance: 0.8611222949169601\n",
      "SET: 09 Model: Kmeans_auto Metric: mse_radius Diversity: 108.30420121121803 Dominance: 0.4204987486538531\n",
      "SET: 09 Model: Kmeans_auto Metric: mse_distance Diversity: 89.01797571277388 Dominance: 0.43672218312993694\n",
      "SET: 09 Model: Kmeans_auto Metric: mse_distance_ord Diversity: 79.36245963930301 Dominance: 0.42663517337091417\n",
      "SET: 09 Model: Kmeans_auto Metric: mse_radius_ord Diversity: 108.30420121121803 Dominance: 0.4204987486538531\n",
      "SET: 09 Model: Kmeans_full Metric: mse_radius Diversity: 108.30420121121803 Dominance: 0.4204987486538531\n",
      "SET: 09 Model: Kmeans_full Metric: mse_distance Diversity: 89.01797571277388 Dominance: 0.43672218312993694\n",
      "SET: 09 Model: Kmeans_full Metric: mse_distance_ord Diversity: 79.36245963930301 Dominance: 0.42663517337091417\n",
      "SET: 09 Model: Kmeans_full Metric: mse_radius_ord Diversity: 108.30420121121803 Dominance: 0.4204987486538531\n",
      "SET: 09 Model: Kmeans_elkan Metric: mse_radius Diversity: 108.30420121121803 Dominance: 0.4204987486538531\n",
      "SET: 09 Model: Kmeans_elkan Metric: mse_distance Diversity: 89.01797571277388 Dominance: 0.43672218312993694\n",
      "SET: 09 Model: Kmeans_elkan Metric: mse_distance_ord Diversity: 79.36245963930301 Dominance: 0.42663517337091417\n",
      "SET: 09 Model: Kmeans_elkan Metric: mse_radius_ord Diversity: 108.30420121121803 Dominance: 0.4204987486538531\n",
      "SET: 09 Model: Aggl_ward Metric: mse_radius Diversity: 114.47881900159523 Dominance: 0.4305456687405565\n",
      "SET: 09 Model: Aggl_ward Metric: mse_distance Diversity: 107.89439281074804 Dominance: 0.4191694284317625\n",
      "SET: 09 Model: Aggl_ward Metric: mse_distance_ord Diversity: 116.32712495372694 Dominance: 0.5335441747466761\n",
      "SET: 09 Model: Aggl_ward Metric: mse_radius_ord Diversity: 114.47881900159523 Dominance: 0.4305456687405565\n",
      "SET: 09 Model: Aggl_complete Metric: mse_radius Diversity: 140.10353314602742 Dominance: 0.4456592371228762\n",
      "SET: 09 Model: Aggl_complete Metric: mse_distance Diversity: 185.3407672370005 Dominance: 0.4511761594746325\n",
      "SET: 09 Model: Aggl_complete Metric: mse_distance_ord Diversity: 269.62752085052443 Dominance: 0.47333809037477126\n",
      "SET: 09 Model: Aggl_complete Metric: mse_radius_ord Diversity: 140.10353314602742 Dominance: 0.4456592371228762\n",
      "SET: 09 Model: Aggl_average Metric: mse_radius Diversity: 198.83611342007268 Dominance: 0.49164673308566786\n",
      "SET: 09 Model: Aggl_average Metric: mse_distance Diversity: 174.4895412338516 Dominance: 0.5591852573146499\n",
      "SET: 09 Model: Aggl_average Metric: mse_distance_ord Diversity: 195.05537675234692 Dominance: 0.4604240746438076\n",
      "SET: 09 Model: Aggl_average Metric: mse_radius_ord Diversity: 198.83611342007268 Dominance: 0.49164673308566786\n",
      "SET: 09 Model: Aggl_single Metric: mse_radius Diversity: 596.0006711405617 Dominance: 0.9112676056338028\n",
      "SET: 09 Model: Aggl_single Metric: mse_distance Diversity: 590.350065639024 Dominance: 0.8611618467782851\n",
      "SET: 09 Model: Aggl_single Metric: mse_distance_ord Diversity: 591.6833612668181 Dominance: 0.9111392405063292\n",
      "SET: 09 Model: Aggl_single Metric: mse_radius_ord Diversity: 596.0006711405617 Dominance: 0.9112676056338028\n"
     ]
    }
   ],
   "source": [
    "for coef in coef_dict:\n",
    "    distance_matrixes = dict()\n",
    "    distance_matrixes['mse_radius'] = createDistanceMatrix(coef_dict[coef], metric=find_mse_radius, order = 10)\n",
    "    distance_matrixes['mse_distance'] = createDistanceMatrix(coef_dict[coef], metric=find_mse_distance, order = 10)\n",
    "    distance_matrixes['mse_distance_ord'] = createDistanceMatrix(coef_dict[coef], metric=find_mse_coef_order, order = 10)\n",
    "    distance_matrixes['mse_radius_ord'] = createDistanceMatrix(coef_dict[coef], metric=find_mse_radius_order, order = 10)\n",
    "\n",
    "    for model in clustering_models:\n",
    "        for dist in distance_matrixes:\n",
    "            clustering_models[model].fit(distance_matrixes[dist])\n",
    "            labels_pred = clustering_models[model].labels_\n",
    "            print('SET:', coef, 'Model:', model, 'Metric:', dist, 'Diversity:', labelDiversity(labels_pred), 'Dominance:', dominanceOfPredictedClusters(labels_pred, labels_true))"
   ]
  },
  {
   "cell_type": "markdown",
   "metadata": {},
   "source": [
    "# Checking best model"
   ]
  },
  {
   "cell_type": "code",
   "execution_count": 72,
   "metadata": {},
   "outputs": [],
   "source": [
    "best_coef = coef_dict['05']"
   ]
  },
  {
   "cell_type": "code",
   "execution_count": 74,
   "metadata": {},
   "outputs": [],
   "source": [
    "best_model = clustering_models['Kmeans_elkan']"
   ]
  },
  {
   "cell_type": "code",
   "execution_count": 75,
   "metadata": {},
   "outputs": [],
   "source": [
    "best_metric = find_mse_distance"
   ]
  },
  {
   "cell_type": "code",
   "execution_count": 76,
   "metadata": {},
   "outputs": [],
   "source": [
    "best_dist_matrix = createDistanceMatrix(best_coef, best_metric, order = 10)"
   ]
  },
  {
   "cell_type": "code",
   "execution_count": 77,
   "metadata": {},
   "outputs": [
    {
     "data": {
      "text/plain": [
       "KMeans(algorithm='elkan', copy_x=True, init='k-means++', max_iter=300,\n",
       "       n_clusters=10, n_init=10, n_jobs=-1, precompute_distances='auto',\n",
       "       random_state=0, tol=0.0001, verbose=0)"
      ]
     },
     "execution_count": 77,
     "metadata": {},
     "output_type": "execute_result"
    }
   ],
   "source": [
    "best_model.fit(best_dist_matrix)"
   ]
  },
  {
   "cell_type": "code",
   "execution_count": 78,
   "metadata": {},
   "outputs": [
    {
     "data": {
      "text/plain": [
       "array([261, 305, 190, 277,  29, 237, 206, 172, 118, 205], dtype=int64)"
      ]
     },
     "execution_count": 78,
     "metadata": {},
     "output_type": "execute_result"
    }
   ],
   "source": [
    "np.bincount(best_model.labels_)"
   ]
  },
  {
   "cell_type": "code",
   "execution_count": 87,
   "metadata": {},
   "outputs": [
    {
     "data": {
      "text/plain": [
       "array([ 1,  1, 41, 52,  0,  9,  0, 81,  1, 19], dtype=int64)"
      ]
     },
     "execution_count": 87,
     "metadata": {},
     "output_type": "execute_result"
    }
   ],
   "source": [
    "np.bincount(labels_true[np.where(best_model.labels_==9)])"
   ]
  },
  {
   "cell_type": "code",
   "execution_count": 71,
   "metadata": {},
   "outputs": [
    {
     "data": {
      "text/plain": [
       "array([0, 0, 0, 0])"
      ]
     },
     "execution_count": 71,
     "metadata": {},
     "output_type": "execute_result"
    }
   ],
   "source": [
    "labels_true[np.where(best_model.labels_==4)]"
   ]
  }
 ],
 "metadata": {
  "kernelspec": {
   "display_name": "Python 3",
   "language": "python",
   "name": "python3"
  },
  "language_info": {
   "codemirror_mode": {
    "name": "ipython",
    "version": 3
   },
   "file_extension": ".py",
   "mimetype": "text/x-python",
   "name": "python",
   "nbconvert_exporter": "python",
   "pygments_lexer": "ipython3",
   "version": "3.7.4"
  }
 },
 "nbformat": 4,
 "nbformat_minor": 2
}
