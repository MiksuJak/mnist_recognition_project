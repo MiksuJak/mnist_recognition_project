{
 "cells": [
  {
   "cell_type": "markdown",
   "metadata": {},
   "source": [
    "# Summary and presentation of method using Fourier Transforms"
   ]
  },
  {
   "cell_type": "markdown",
   "metadata": {},
   "source": [
    "## Libraries, Mnist dataset and precomputed data to centroid distances vectors"
   ]
  },
  {
   "cell_type": "code",
   "execution_count": 1,
   "metadata": {},
   "outputs": [],
   "source": [
    "from visualizations import *\n",
    "import numpy as np\n",
    "import pandas as pd\n",
    "import warnings\n",
    "from math import tau\n",
    "import matplotlib.pyplot as plt\n",
    "from scipy.integrate import quad\n",
    "warnings.filterwarnings('ignore')"
   ]
  },
  {
   "cell_type": "code",
   "execution_count": 2,
   "metadata": {},
   "outputs": [],
   "source": [
    "data = np.loadtxt(\"./../DATA/digits2k_pixels.data.gz\", ndmin=2)/255.0\n",
    "data.shape = (data.shape[0], int(np.sqrt(data.shape[1])), int(np.sqrt(data.shape[1])))\n",
    "labels = np.loadtxt(\"./../DATA/digits2k_pixels.labels.gz\", dtype='int')"
   ]
  },
  {
   "cell_type": "code",
   "execution_count": 3,
   "metadata": {},
   "outputs": [],
   "source": [
    "centroid_distances = np.load('centroid_distances.npy') # thats our frame of 30-dimensional points to compare with each other via clustering"
   ]
  },
  {
   "cell_type": "markdown",
   "metadata": {},
   "source": [
    "labels[i] correspond to centroid_distances[i]"
   ]
  },
  {
   "cell_type": "markdown",
   "metadata": {},
   "source": [
    "## How centroid distances vectors are created?"
   ]
  },
  {
   "cell_type": "markdown",
   "metadata": {},
   "source": [
    "Generating methods are all written in 'Generate_depth10_allPixels' notebook. Here we will only cover the theory behind it."
   ]
  },
  {
   "cell_type": "markdown",
   "metadata": {},
   "source": [
    "As a sample we will take one of the MNIST digits"
   ]
  },
  {
   "cell_type": "code",
   "execution_count": 4,
   "metadata": {},
   "outputs": [
    {
     "data": {
      "text/plain": [
       "<matplotlib.image.AxesImage at 0x1c826568c88>"
      ]
     },
     "execution_count": 4,
     "metadata": {},
     "output_type": "execute_result"
    },
    {
     "data": {
      "image/png": "[encoded data removed]",
      "text/plain": [
       "<Figure size 432x288 with 1 Axes>"
      ]
     },
     "metadata": {
      "needs_background": "light"
     },
     "output_type": "display_data"
    }
   ],
   "source": [
    "i = 115\n",
    "plt.imshow(data[i,:,:], cmap=plt.get_cmap(\"gray\"))"
   ]
  },
  {
   "cell_type": "markdown",
   "metadata": {},
   "source": [
    "Four is a fine example. Then we need a function to get pixels to binary values."
   ]
  },
  {
   "cell_type": "code",
   "execution_count": 5,
   "metadata": {},
   "outputs": [],
   "source": [
    "def onlyBlackWhite(array, percentage = 0.3):\n",
    "    result = array.copy()\n",
    "    quantile = np.quantile(result[result>0], percentage)\n",
    "    for i in range(len(result)):\n",
    "        for j in range(len(result[0])):\n",
    "            if (result[i,j] < quantile):\n",
    "                result[i,j] = 0\n",
    "            else:\n",
    "                result[i,j] = 1\n",
    "    return result"
   ]
  },
  {
   "cell_type": "code",
   "execution_count": 6,
   "metadata": {},
   "outputs": [
    {
     "data": {
      "text/plain": [
       "<matplotlib.image.AxesImage at 0x1c826887248>"
      ]
     },
     "execution_count": 6,
     "metadata": {},
     "output_type": "execute_result"
    },
    {
     "data": {
      "image/png": "[encoded data removed]",
      "text/plain": [
       "<Figure size 432x288 with 1 Axes>"
      ]
     },
     "metadata": {
      "needs_background": "light"
     },
     "output_type": "display_data"
    }
   ],
   "source": [
    "digit = onlyBlackWhite(data[i,:,:])\n",
    "plt.imshow(digit, cmap=plt.get_cmap(\"gray\"))"
   ]
  },
  {
   "cell_type": "markdown",
   "metadata": {},
   "source": [
    "And here it is. Now we get points defining contour of the digit. And we center it so all the digits are in [-10,10]x[-10,10]. Of course in some instances, we get more than one contour. In such cases we take the one with most points."
   ]
  },
  {
   "cell_type": "code",
   "execution_count": 7,
   "metadata": {},
   "outputs": [
    {
     "data": {
      "image/png": "[encoded data removed]",
      "text/plain": [
       "<Figure size 720x360 with 2 Axes>"
      ]
     },
     "metadata": {
      "needs_background": "light"
     },
     "output_type": "display_data"
    }
   ],
   "source": [
    "time_table, x_table, y_table = create_close_loop(digit)"
   ]
  },
  {
   "cell_type": "markdown",
   "metadata": {},
   "source": [
    "Now let's describe this shape with Fourier Transform. Already known functions:"
   ]
  },
  {
   "cell_type": "code",
   "execution_count": 8,
   "metadata": {},
   "outputs": [],
   "source": [
    "def f(t, time_table, x_table, y_table):\n",
    "    return interp(t, time_table, x_table) + 1j*interp(t, time_table, y_table)\n",
    "\n",
    "def coef_list(time_table, x_table, y_table, order=10):\n",
    "    \"\"\"\n",
    "    Counting c_n coefficients of Fourier series, of function aproximated by points (time_table, x_table + j*y_table)\n",
    "    of order of magnitude = order\n",
    "    \"\"\"\n",
    "    coef_list = []\n",
    "    for n in range(-order, order+1):\n",
    "        real_coef = quad(lambda t: np.real(f(t, time_table, x_table, y_table) * np.exp(-n*1j*t)), 0, tau, limit=100, full_output=1)[0]/tau\n",
    "        imag_coef = quad(lambda t: np.imag(f(t, time_table, x_table, y_table) * np.exp(-n*1j*t)), 0, tau, limit=100, full_output=1)[0]/tau\n",
    "        coef_list.append([real_coef, imag_coef])\n",
    "    return np.array(coef_list)"
   ]
  },
  {
   "cell_type": "markdown",
   "metadata": {},
   "source": [
    "And now functions to generate points from Fourier coefficients:"
   ]
  },
  {
   "cell_type": "code",
   "execution_count": 9,
   "metadata": {},
   "outputs": [],
   "source": [
    "def DFT(t, coef_list, order=10):\n",
    "    \"\"\"\n",
    "    get points of Fourier series aproximation, where t is a time argument for which we want to get (from range[0, tau])\n",
    "    \"\"\"\n",
    "    kernel = np.array([np.exp(-n*1j*t) for n in range(-order, order+1)])\n",
    "    series = np.sum( (coef_list[:,0]+1j*coef_list[:,1]) * kernel[:])\n",
    "    return np.real(series), np.imag(series)\n",
    "\n",
    "def GenerateShapePoints(coef_list, n=100):\n",
    "    time_space = np.linspace(0, tau, n)\n",
    "    x_DFT = [DFT(t, coef)[0] for t in time_space]\n",
    "    y_DFT = [DFT(t, coef)[1] for t in time_space]\n",
    "    return x_DFT, y_DFT"
   ]
  },
  {
   "cell_type": "markdown",
   "metadata": {},
   "source": [
    "With these we get an effect presented below. Orange point represents the first point and the following go through the lines counter clockwise."
   ]
  },
  {
   "cell_type": "code",
   "execution_count": 10,
   "metadata": {},
   "outputs": [
    {
     "data": {
      "text/plain": [
       "[<matplotlib.lines.Line2D at 0x1c826620508>]"
      ]
     },
     "execution_count": 10,
     "metadata": {},
     "output_type": "execute_result"
    },
    {
     "data": {
      "image/png": "[encoded data removed]",
      "text/plain": [
       "<Figure size 432x288 with 1 Axes>"
      ]
     },
     "metadata": {
      "needs_background": "light"
     },
     "output_type": "display_data"
    }
   ],
   "source": [
    "coef = coef_list(time_table, x_table, y_table, order=10)\n",
    "X, Y = GenerateShapePoints(coef, n=30)\n",
    "plt.plot(X, Y, '-o')\n",
    "plt.plot(X[0], Y[0], 'o')"
   ]
  },
  {
   "cell_type": "markdown",
   "metadata": {},
   "source": [
    "So now points in certain order represent our number. It appears it would be much easier and efficient to reduce our input to one column rather than keep it in 2 columns of 30 rows."
   ]
  },
  {
   "cell_type": "markdown",
   "metadata": {},
   "source": [
    "In fact, the most efficient way of comparing shapes described like that to each other is by comparing distances of each point(if they are kept in time order like in our case) from the centroid of the image. Centroid is of course a mean of all points. To dive deeper into the topic please take a look at the article below."
   ]
  },
  {
   "cell_type": "markdown",
   "metadata": {},
   "source": [
    "https://cis.temple.edu/~lakamper/courses/cis9601_2009/etc/fourierShape.pdf"
   ]
  },
  {
   "cell_type": "code",
   "execution_count": 11,
   "metadata": {},
   "outputs": [],
   "source": [
    "# creating centroids\n",
    "Xc = np.mean(X)\n",
    "Yc = np.mean(Y)"
   ]
  },
  {
   "cell_type": "markdown",
   "metadata": {},
   "source": [
    "Below we show you few steps to "
   ]
  },
  {
   "cell_type": "code",
   "execution_count": 12,
   "metadata": {},
   "outputs": [
    {
     "data": {
      "text/plain": [
       "[<matplotlib.lines.Line2D at 0x1c82667fcc8>]"
      ]
     },
     "execution_count": 12,
     "metadata": {},
     "output_type": "execute_result"
    },
    {
     "data": {
      "image/png": "[encoded data removed]",
      "text/plain": [
       "<Figure size 432x288 with 1 Axes>"
      ]
     },
     "metadata": {
      "needs_background": "light"
     },
     "output_type": "display_data"
    }
   ],
   "source": [
    "plt.plot(X, Y, '-o')\n",
    "plt.plot(Xc, Yc, 'o')"
   ]
  },
  {
   "cell_type": "code",
   "execution_count": 13,
   "metadata": {},
   "outputs": [
    {
     "data": {
      "text/plain": [
       "[<matplotlib.lines.Line2D at 0x1c8266ebac8>]"
      ]
     },
     "execution_count": 13,
     "metadata": {},
     "output_type": "execute_result"
    },
    {
     "data": {
      "image/png": "[encoded data removed]",
      "text/plain": [
       "<Figure size 432x288 with 1 Axes>"
      ]
     },
     "metadata": {
      "needs_background": "light"
     },
     "output_type": "display_data"
    }
   ],
   "source": [
    "plt.plot(X, Y, '-o')\n",
    "plt.plot([Xc, X[0]], [Yc, Y[0]], '-o')"
   ]
  },
  {
   "cell_type": "code",
   "execution_count": 14,
   "metadata": {},
   "outputs": [
    {
     "data": {
      "text/plain": [
       "[<matplotlib.lines.Line2D at 0x1c82678de88>]"
      ]
     },
     "execution_count": 14,
     "metadata": {},
     "output_type": "execute_result"
    },
    {
     "data": {
      "image/png": "[encoded data removed]",
      "text/plain": [
       "<Figure size 432x288 with 1 Axes>"
      ]
     },
     "metadata": {
      "needs_background": "light"
     },
     "output_type": "display_data"
    }
   ],
   "source": [
    "plt.plot(X, Y, '-o')\n",
    "plt.plot([Xc, X[0]], [Yc, Y[0]], '-o')\n",
    "plt.plot([Xc, X[1]], [Yc, Y[1]], '-o')"
   ]
  },
  {
   "cell_type": "markdown",
   "metadata": {},
   "source": [
    "And so on."
   ]
  },
  {
   "cell_type": "markdown",
   "metadata": {},
   "source": [
    "And now a digit is represented with vector, of distances, of all points from centroid."
   ]
  },
  {
   "cell_type": "markdown",
   "metadata": {},
   "source": [
    "## Proof, that it works?"
   ]
  },
  {
   "cell_type": "markdown",
   "metadata": {},
   "source": [
    "Early on we realised that silhoutte score is kind of irrelevant to how many clusters we need. Then the idea came up to create our own scoring, of telling how much a cluster is by average dominated by the digits of same kind(using true labels)."
   ]
  },
  {
   "cell_type": "code",
   "execution_count": 15,
   "metadata": {},
   "outputs": [],
   "source": [
    "def dominanceOfPredictedClusters(labels_pred, labels_true):\n",
    "    clusters = np.unique(labels_pred)\n",
    "    cluster_dominance = []\n",
    "    cluster_sizes = []\n",
    "    N = len(labels_pred)\n",
    "    for l in clusters:\n",
    "        labels_in_cluster = np.bincount(labels[np.where(labels_pred==l)])\n",
    "        cluster_dominance.append(np.max(labels_in_cluster)/np.sum(labels_in_cluster))\n",
    "        cluster_sizes.append(len(labels[np.where(labels_pred==l)]))\n",
    "    # mean needs to be counted with wages, to omit situation when all but one clusters are super balanced\n",
    "    return np.average(cluster_dominance, weights=cluster_sizes)\n",
    "# the closer it is to one, the more dominated the clusters are, meaning the better is our model\n",
    "\n",
    "def count_clustering_scores(X, cluster_num, model, labels_true):\n",
    "    if isinstance(cluster_num, int):\n",
    "        cluster_num_iter = [cluster_num]\n",
    "    else:\n",
    "        cluster_num_iter = cluster_num\n",
    "        \n",
    "    scores = []    \n",
    "    for k in cluster_num_iter:\n",
    "        model_instance = model(n_clusters=k)\n",
    "        model_instance.fit(X)\n",
    "        dominance = dominanceOfPredictedClusters(model_instance.labels_, labels_true)\n",
    "        scores.append(dominance)\n",
    "    \n",
    "    if isinstance(cluster_num, int):\n",
    "        return scores[0]\n",
    "    else:\n",
    "        return scores"
   ]
  },
  {
   "cell_type": "markdown",
   "metadata": {},
   "source": [
    "Also, first tests have shown that KMeans worked better than Agglomerative algorithms(with default parameters), but we will evaluate more of them in the future."
   ]
  },
  {
   "cell_type": "markdown",
   "metadata": {},
   "source": [
    "### KMeans vs Fourier Transformed MNIST"
   ]
  },
  {
   "cell_type": "code",
   "execution_count": 16,
   "metadata": {},
   "outputs": [
    {
     "data": {
      "image/png": "[encoded data removed]",
      "text/plain": [
       "<Figure size 432x288 with 1 Axes>"
      ]
     },
     "metadata": {
      "needs_background": "light"
     },
     "output_type": "display_data"
    }
   ],
   "source": [
    "from sklearn.cluster import KMeans\n",
    "\n",
    "model_test = KMeans\n",
    "cluster_num_seq = range(10, 35) # minimum 10 clusters\n",
    "dominance_vec = count_clustering_scores(centroid_distances, cluster_num_seq, model_test, labels)\n",
    "plt.plot(cluster_num_seq, dominance_vec, 'bx-')\n",
    "plt.xlabel('k')\n",
    "plt.ylabel('dominance score')\n",
    "plt.show()"
   ]
  },
  {
   "cell_type": "markdown",
   "metadata": {},
   "source": [
    "This metric shew us that the best results should be accomplished by choosing k = 28"
   ]
  },
  {
   "cell_type": "markdown",
   "metadata": {},
   "source": [
    "### KMeans with k = 28"
   ]
  },
  {
   "cell_type": "code",
   "execution_count": 17,
   "metadata": {},
   "outputs": [
    {
     "data": {
      "text/plain": [
       "KMeans(algorithm='auto', copy_x=True, init='k-means++', max_iter=300,\n",
       "       n_clusters=28, n_init=10, n_jobs=None, precompute_distances='auto',\n",
       "       random_state=None, tol=0.0001, verbose=0)"
      ]
     },
     "execution_count": 17,
     "metadata": {},
     "output_type": "execute_result"
    }
   ],
   "source": [
    "model = KMeans(n_clusters=28)\n",
    "model.fit(centroid_distances)"
   ]
  },
  {
   "cell_type": "code",
   "execution_count": 18,
   "metadata": {},
   "outputs": [],
   "source": [
    "labels_true = labels\n",
    "labels_pred = model.labels_"
   ]
  },
  {
   "cell_type": "markdown",
   "metadata": {},
   "source": [
    "Now to meassure the results, we assign a digit label which appeared the most in a certain cluster."
   ]
  },
  {
   "cell_type": "code",
   "execution_count": 68,
   "metadata": {},
   "outputs": [],
   "source": [
    "def determineClusterDigit(labels_true, labels_pred, cluster_num):\n",
    "    real_labels, counts = np.unique(labels[model.labels_ == cluster_num], return_counts=True)\n",
    "    if len(real_labels) == 0:\n",
    "        return -1\n",
    "    return real_labels[np.argmax(counts)]"
   ]
  },
  {
   "cell_type": "code",
   "execution_count": 20,
   "metadata": {},
   "outputs": [],
   "source": [
    "label_mapping = dict()\n",
    "n_clusters = 28\n",
    "for i in range(n_clusters):\n",
    "    label_mapping[i] = determineClusterDigit(labels_true, labels_pred, i)"
   ]
  },
  {
   "cell_type": "code",
   "execution_count": 21,
   "metadata": {},
   "outputs": [],
   "source": [
    "labels_final_prediction = pd.Series(labels_pred)\n",
    "labels_final_prediction = labels_final_prediction.map(label_mapping)"
   ]
  },
  {
   "cell_type": "markdown",
   "metadata": {},
   "source": [
    "And we can meassure it's precicion."
   ]
  },
  {
   "cell_type": "code",
   "execution_count": 22,
   "metadata": {},
   "outputs": [
    {
     "data": {
      "text/plain": [
       "0.7015"
      ]
     },
     "execution_count": 22,
     "metadata": {},
     "output_type": "execute_result"
    }
   ],
   "source": [
    "from sklearn.metrics import precision_score\n",
    "\n",
    "precision_score(y_true = labels_true, y_pred = labels_final_prediction, average='micro')"
   ]
  },
  {
   "cell_type": "markdown",
   "metadata": {},
   "source": [
    "For sure, it isn't perfect right now. But the posibilities of choosing parameters in both precomputing and modeling are huge. For multilabeling without supervision 70% is a result good enough for us to keep digging."
   ]
  },
  {
   "cell_type": "markdown",
   "metadata": {},
   "source": [
    "# Extras"
   ]
  },
  {
   "cell_type": "markdown",
   "metadata": {},
   "source": [
    "## Agglomerative"
   ]
  },
  {
   "cell_type": "code",
   "execution_count": 63,
   "metadata": {},
   "outputs": [
    {
     "data": {
      "image/png": "[encoded data removed]",
      "text/plain": [
       "<Figure size 432x288 with 1 Axes>"
      ]
     },
     "metadata": {
      "needs_background": "light"
     },
     "output_type": "display_data"
    }
   ],
   "source": [
    "from sklearn.cluster import AgglomerativeClustering\n",
    "\n",
    "model_test = AgglomerativeClustering\n",
    "cluster_num_seq = range(10, 100) # minimum 10 clusters\n",
    "dominance_vec = count_clustering_scores(centroid_distances, cluster_num_seq, model_test, labels)\n",
    "plt.plot(cluster_num_seq, dominance_vec, 'bx-')\n",
    "plt.xlabel('k')\n",
    "plt.ylabel('dominance score')\n",
    "plt.show()"
   ]
  },
  {
   "cell_type": "code",
   "execution_count": 64,
   "metadata": {},
   "outputs": [
    {
     "data": {
      "text/plain": [
       "AgglomerativeClustering(affinity='euclidean', compute_full_tree='auto',\n",
       "                        connectivity=None, distance_threshold=None,\n",
       "                        linkage='ward', memory=None, n_clusters=45,\n",
       "                        pooling_func='deprecated')"
      ]
     },
     "execution_count": 64,
     "metadata": {},
     "output_type": "execute_result"
    }
   ],
   "source": [
    "model = AgglomerativeClustering(n_clusters=45)\n",
    "model.fit(centroid_distances)"
   ]
  },
  {
   "cell_type": "code",
   "execution_count": 65,
   "metadata": {},
   "outputs": [],
   "source": [
    "labels_final_prediction = assignRealLabels(model.labels_, labels_true)"
   ]
  },
  {
   "cell_type": "code",
   "execution_count": 61,
   "metadata": {},
   "outputs": [],
   "source": [
    "labels_pred = model.labels_\n",
    "label_mapping = dict()\n",
    "n_clusters = 45\n",
    "for i in range(n_clusters):\n",
    "    label_mapping[i] = determineClusterDigit(labels_true, labels_pred, i)\n",
    "    \n",
    "labels_final_prediction = pd.Series(labels_pred)\n",
    "labels_final_prediction = labels_final_prediction.map(label_mapping)"
   ]
  },
  {
   "cell_type": "code",
   "execution_count": 66,
   "metadata": {},
   "outputs": [
    {
     "data": {
      "text/plain": [
       "0.7615"
      ]
     },
     "execution_count": 66,
     "metadata": {},
     "output_type": "execute_result"
    }
   ],
   "source": [
    "precision_score(y_true = labels_true, y_pred = labels_final_prediction, average='micro')"
   ]
  },
  {
   "cell_type": "markdown",
   "metadata": {},
   "source": [
    "## 100"
   ]
  },
  {
   "cell_type": "code",
   "execution_count": 27,
   "metadata": {},
   "outputs": [
    {
     "data": {
      "text/plain": [
       "AgglomerativeClustering(affinity='euclidean', compute_full_tree='auto',\n",
       "                        connectivity=None, distance_threshold=None,\n",
       "                        linkage='ward', memory=None, n_clusters=100,\n",
       "                        pooling_func='deprecated')"
      ]
     },
     "execution_count": 27,
     "metadata": {},
     "output_type": "execute_result"
    }
   ],
   "source": [
    "model = AgglomerativeClustering(n_clusters=100)\n",
    "model.fit(centroid_distances)"
   ]
  },
  {
   "cell_type": "code",
   "execution_count": 28,
   "metadata": {},
   "outputs": [],
   "source": [
    "labels_pred = model.labels_\n",
    "label_mapping = dict()\n",
    "n_clusters = 100\n",
    "for i in range(n_clusters):\n",
    "    label_mapping[i] = determineClusterDigit(labels_true, labels_pred, i)\n",
    "    \n",
    "labels_final_prediction = pd.Series(labels_pred)\n",
    "labels_final_prediction = labels_final_prediction.map(label_mapping)"
   ]
  },
  {
   "cell_type": "code",
   "execution_count": 29,
   "metadata": {},
   "outputs": [
    {
     "data": {
      "text/plain": [
       "0.8195"
      ]
     },
     "execution_count": 29,
     "metadata": {},
     "output_type": "execute_result"
    }
   ],
   "source": [
    "precision_score(y_true = labels_true, y_pred = labels_final_prediction, average='micro')"
   ]
  },
  {
   "cell_type": "markdown",
   "metadata": {},
   "source": [
    "## Affinity"
   ]
  },
  {
   "cell_type": "code",
   "execution_count": 30,
   "metadata": {},
   "outputs": [],
   "source": [
    "from sklearn.cluster import AffinityPropagation"
   ]
  },
  {
   "cell_type": "code",
   "execution_count": 31,
   "metadata": {},
   "outputs": [
    {
     "data": {
      "text/plain": [
       "AffinityPropagation(affinity='euclidean', convergence_iter=15, copy=True,\n",
       "                    damping=0.5, max_iter=200, preference=None, verbose=False)"
      ]
     },
     "execution_count": 31,
     "metadata": {},
     "output_type": "execute_result"
    }
   ],
   "source": [
    "model = AffinityPropagation()\n",
    "model.fit(centroid_distances)"
   ]
  },
  {
   "cell_type": "code",
   "execution_count": 32,
   "metadata": {},
   "outputs": [
    {
     "data": {
      "text/plain": [
       "88"
      ]
     },
     "execution_count": 32,
     "metadata": {},
     "output_type": "execute_result"
    }
   ],
   "source": [
    "max(model.labels_)"
   ]
  },
  {
   "cell_type": "code",
   "execution_count": 33,
   "metadata": {},
   "outputs": [],
   "source": [
    "labels_pred = model.labels_\n",
    "label_mapping = dict()\n",
    "n_clusters = 89\n",
    "for i in range(n_clusters):\n",
    "    label_mapping[i] = determineClusterDigit(labels_true, labels_pred, i)\n",
    "    \n",
    "labels_final_prediction = pd.Series(labels_pred)\n",
    "labels_final_prediction = labels_final_prediction.map(label_mapping)"
   ]
  },
  {
   "cell_type": "code",
   "execution_count": 34,
   "metadata": {},
   "outputs": [
    {
     "data": {
      "text/plain": [
       "0.774"
      ]
     },
     "execution_count": 34,
     "metadata": {},
     "output_type": "execute_result"
    }
   ],
   "source": [
    "precision_score(y_true = labels_true, y_pred = labels_final_prediction, average='micro')"
   ]
  },
  {
   "cell_type": "markdown",
   "metadata": {},
   "source": [
    "## Assign real labels function"
   ]
  },
  {
   "cell_type": "code",
   "execution_count": 52,
   "metadata": {},
   "outputs": [],
   "source": [
    "def assignRealLabels(labels_pred, labels_true):\n",
    "    n_clusters = max(labels_pred)+1\n",
    "    for i in range(n_clusters):\n",
    "        label_mapping[i] = determineClusterDigit(labels_true, labels_pred, i)\n",
    "    \n",
    "    labels_final_prediction = pd.Series(labels_pred)\n",
    "    labels_final_prediction = labels_final_prediction.map(label_mapping)\n",
    "    return labels_final_prediction"
   ]
  },
  {
   "cell_type": "code",
   "execution_count": 53,
   "metadata": {},
   "outputs": [],
   "source": [
    "def precScores(centroid_distances, cluster_num, model_test, labels):\n",
    "    if isinstance(cluster_num, int):\n",
    "        cluster_num_iter = [cluster_num]\n",
    "    else:\n",
    "        cluster_num_iter = cluster_num\n",
    "        \n",
    "    scores = []    \n",
    "    for k in cluster_num_iter:\n",
    "        model_instance = model_test(n_clusters=k)\n",
    "        model_instance.fit(centroid_distances)\n",
    "        labels_ass = assignRealLabels(model_instance.labels_, labels)\n",
    "        prec = precision_score(y_true = labels, y_pred = labels_ass, average='micro')\n",
    "        scores.append(prec)\n",
    "    \n",
    "    if isinstance(cluster_num, int):\n",
    "        return scores[0]\n",
    "    else:\n",
    "        return scores"
   ]
  },
  {
   "cell_type": "markdown",
   "metadata": {},
   "source": [
    "## Searching for best precision in agglomerative"
   ]
  },
  {
   "cell_type": "code",
   "execution_count": 70,
   "metadata": {},
   "outputs": [
    {
     "data": {
      "image/png": "[encoded data removed]",
      "text/plain": [
       "<Figure size 432x288 with 1 Axes>"
      ]
     },
     "metadata": {
      "needs_background": "light"
     },
     "output_type": "display_data"
    }
   ],
   "source": [
    "model_test = AgglomerativeClustering\n",
    "cluster_num_seq = range(10, 100) # minimum 10 clusters\n",
    "prec_vec = precScores(centroid_distances, cluster_num_seq, model_test, labels)\n",
    "plt.plot(cluster_num_seq, prec_vec, 'bx-')\n",
    "plt.xlabel('k')\n",
    "plt.ylabel('precision score')\n",
    "plt.show()"
   ]
  },
  {
   "cell_type": "markdown",
   "metadata": {},
   "source": [
    "As earlier best precision for Agglomerative at k = 45"
   ]
  }
 ],
 "metadata": {
  "kernelspec": {
   "display_name": "Python 3",
   "language": "python",
   "name": "python3"
  },
  "language_info": {
   "codemirror_mode": {
    "name": "ipython",
    "version": 3
   },
   "file_extension": ".py",
   "mimetype": "text/x-python",
   "name": "python",
   "nbconvert_exporter": "python",
   "pygments_lexer": "ipython3",
   "version": "3.7.4"
  }
 },
 "nbformat": 4,
 "nbformat_minor": 2
}
