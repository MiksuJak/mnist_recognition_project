{
 "cells": [
  {
   "cell_type": "markdown",
   "metadata": {},
   "source": [
    "# Import Libraries"
   ]
  },
  {
   "cell_type": "code",
   "execution_count": 42,
   "metadata": {},
   "outputs": [],
   "source": [
    "from visualizations import *\n",
    "import numpy as np\n",
    "import pandas as pd\n",
    "import warnings\n",
    "from math import tau\n",
    "from scipy.integrate import quad\n",
    "warnings.filterwarnings('ignore')"
   ]
  },
  {
   "cell_type": "markdown",
   "metadata": {},
   "source": [
    "## Load data"
   ]
  },
  {
   "cell_type": "code",
   "execution_count": 43,
   "metadata": {},
   "outputs": [],
   "source": [
    "data = np.loadtxt(\"./../DATA/digits2k_pixels.data.gz\", ndmin=2)/255.0\n",
    "data.shape = (data.shape[0], int(np.sqrt(data.shape[1])), int(np.sqrt(data.shape[1])))\n",
    "labels = np.loadtxt(\"./../DATA/digits2k_pixels.labels.gz\", dtype='int')"
   ]
  },
  {
   "cell_type": "code",
   "execution_count": 44,
   "metadata": {},
   "outputs": [
    {
     "data": {
      "text/plain": [
       "<matplotlib.image.AxesImage at 0x2a83215a3c8>"
      ]
     },
     "execution_count": 44,
     "metadata": {},
     "output_type": "execute_result"
    },
    {
     "data": {
      "image/png": "[encoded data removed]",
      "text/plain": [
       "<Figure size 432x288 with 1 Axes>"
      ]
     },
     "metadata": {
      "needs_background": "light"
     },
     "output_type": "display_data"
    }
   ],
   "source": [
    "i = 58\n",
    "plt.imshow(data[i,:,:], cmap=plt.get_cmap(\"gray\"))"
   ]
  },
  {
   "cell_type": "markdown",
   "metadata": {},
   "source": [
    "## Function to transform to binary matrix"
   ]
  },
  {
   "cell_type": "code",
   "execution_count": 45,
   "metadata": {},
   "outputs": [],
   "source": [
    "def onlyBlackWhite(array, threshold = 0.01):\n",
    "    result = array.copy()\n",
    "    for i in range(len(result)):\n",
    "        for j in range(len(result[0])):\n",
    "            if (result[i,j] < threshold):\n",
    "                result[i,j] = 0\n",
    "            else:\n",
    "                result[i,j] = 1\n",
    "    return result"
   ]
  },
  {
   "cell_type": "code",
   "execution_count": 46,
   "metadata": {},
   "outputs": [],
   "source": [
    "copied = onlyBlackWhite(data[i,:,:])"
   ]
  },
  {
   "cell_type": "code",
   "execution_count": 47,
   "metadata": {},
   "outputs": [
    {
     "data": {
      "text/plain": [
       "<matplotlib.image.AxesImage at 0x2a8360f9788>"
      ]
     },
     "execution_count": 47,
     "metadata": {},
     "output_type": "execute_result"
    },
    {
     "data": {
      "image/png": "[encoded data removed]",
      "text/plain": [
       "<Figure size 432x288 with 1 Axes>"
      ]
     },
     "metadata": {
      "needs_background": "light"
     },
     "output_type": "display_data"
    }
   ],
   "source": [
    "plt.imshow(copied, cmap=plt.get_cmap(\"gray\"))"
   ]
  },
  {
   "cell_type": "markdown",
   "metadata": {},
   "source": [
    "## Getting contour points of image"
   ]
  },
  {
   "cell_type": "code",
   "execution_count": 48,
   "metadata": {},
   "outputs": [
    {
     "data": {
      "image/png": "[encoded data removed]",
      "text/plain": [
       "<Figure size 720x360 with 2 Axes>"
      ]
     },
     "metadata": {
      "needs_background": "light"
     },
     "output_type": "display_data"
    }
   ],
   "source": [
    "time_table, x_table, y_table = create_close_loop(copied)"
   ]
  },
  {
   "cell_type": "markdown",
   "metadata": {},
   "source": [
    "# Finding Fourier coefficients"
   ]
  },
  {
   "cell_type": "markdown",
   "metadata": {},
   "source": [
    "## $c_{n}=\\frac{1}{2\\pi}\\int_{0}^{2\\pi}f(t)e^{-jnt}dt$\n",
    "## $f(t)=\\sum_{n=-\\infty}^{\\infty}c_{n}e^{-jnt}$"
   ]
  },
  {
   "cell_type": "markdown",
   "metadata": {},
   "source": [
    "Of course to get $f(t)$ we first need to somehow know $f(t)$. We know that $f$ is a function of $t\\in[0,2\\pi]$(treated as time) and returns a complex number corresponding to a point location. To get $c_{n}$(Fourier coefficients), we will aproximate $f$ values for each $n$ with the function below.  \n",
    "Of course $tau=2\\pi$"
   ]
  },
  {
   "cell_type": "code",
   "execution_count": 49,
   "metadata": {},
   "outputs": [],
   "source": [
    "time_table = np.linspace(0, tau, len(x_table)) # arguments for aproximated f function"
   ]
  },
  {
   "cell_type": "code",
   "execution_count": 50,
   "metadata": {},
   "outputs": [],
   "source": [
    "def f(t, time_table, x_table, y_table):\n",
    "    return interp(t, time_table, x_table) + 1j*interp(t, time_table, y_table)"
   ]
  },
  {
   "cell_type": "markdown",
   "metadata": {},
   "source": [
    "### Coefficients finding function"
   ]
  },
  {
   "cell_type": "markdown",
   "metadata": {},
   "source": [
    "Since $f(t)$ results in $z = a+bj$  \n",
    "$c_{n}=\\frac{1}{2\\pi}\\int_{0}^{2\\pi}f(t)e^{-jnt}dt=\\frac{1}{2\\pi}\\int_{0}^{2\\pi}ae^{-jnt}+bjae^{-jnt}dt=$"
   ]
  },
  {
   "cell_type": "code",
   "execution_count": 51,
   "metadata": {},
   "outputs": [],
   "source": [
    "def coef_list(time_table, x_table, y_table, order=10):\n",
    "    \"\"\"\n",
    "    Counting c_n coefficients of Fourier series, of function aproximated by points (time_table, x_table + j*y_table)\n",
    "    of order of magnitude = order\n",
    "    \"\"\"\n",
    "    coef_list = []\n",
    "    for n in range(-order, order+1):\n",
    "        real_coef = quad(lambda t: np.real(f(t, time_table, x_table, y_table) * np.exp(-n*1j*t)), 0, tau, limit=100, full_output=1)[0]/tau\n",
    "        imag_coef = quad(lambda t: np.imag(f(t, time_table, x_table, y_table) * np.exp(-n*1j*t)), 0, tau, limit=100, full_output=1)[0]/tau\n",
    "        coef_list.append([real_coef, imag_coef])\n",
    "    return np.array(coef_list)"
   ]
  },
  {
   "cell_type": "code",
   "execution_count": 52,
   "metadata": {},
   "outputs": [
    {
     "name": "stdout",
     "output_type": "stream",
     "text": [
      "[[-3.11581749e-03 -2.55350493e-02]\n",
      " [ 5.47164591e-02  1.09311384e-01]\n",
      " [-2.32226125e-01  9.62063708e-02]\n",
      " [-1.48070237e-01  4.52036125e-02]\n",
      " [ 2.40275570e-01 -5.08447763e-02]\n",
      " [-3.96825094e-01  3.14165462e-01]\n",
      " [ 3.05148983e-01  1.20412894e+00]\n",
      " [-1.45185656e+00 -5.45490080e-02]\n",
      " [-1.11446168e+00  7.79530232e-02]\n",
      " [ 4.13732192e+00  6.43268156e+00]\n",
      " [ 1.52054791e+00  1.17123288e+00]\n",
      " [-8.11730661e-01 -9.29025078e-02]\n",
      " [ 1.38668589e+00  7.62831648e-01]\n",
      " [ 5.37298946e-01 -1.79170676e-01]\n",
      " [ 2.32280605e-01  5.98801734e-01]\n",
      " [-2.18255242e-01 -1.72697761e-02]\n",
      " [-6.01797795e-02  1.40742622e-01]\n",
      " [-1.41103264e-01 -1.35669532e-01]\n",
      " [-8.17199061e-02 -8.68771324e-02]\n",
      " [ 7.40137674e-02 -1.27035906e-01]\n",
      " [ 9.78775267e-03  2.22554115e-02]]\n"
     ]
    }
   ],
   "source": [
    "coef = coef_list(time_table, x_table, y_table)\n",
    "print(coef)"
   ]
  },
  {
   "cell_type": "markdown",
   "metadata": {},
   "source": [
    "These are counted coefficients for shape of imported image, which will be further used to compare images. Fortunately Fourier Series can be treated as simmilar whenever their coefficients are close to each other."
   ]
  },
  {
   "cell_type": "markdown",
   "metadata": {},
   "source": [
    "## Visualize"
   ]
  },
  {
   "cell_type": "markdown",
   "metadata": {},
   "source": [
    "### Calculate points to plot by aproximated Fourier series"
   ]
  },
  {
   "cell_type": "code",
   "execution_count": 53,
   "metadata": {},
   "outputs": [],
   "source": [
    "space = np.linspace(0, tau, 300)\n",
    "x_DFT = [DFT(t, coef)[0] for t in space]\n",
    "y_DFT = [DFT(t, coef)[1] for t in space]"
   ]
  },
  {
   "cell_type": "markdown",
   "metadata": {},
   "source": [
    "### Draw contour(black) and aproximated Fourier line(red)"
   ]
  },
  {
   "cell_type": "code",
   "execution_count": 54,
   "metadata": {},
   "outputs": [
    {
     "data": {
      "image/png": "[encoded data removed]",
      "text/plain": [
       "<Figure size 360x360 with 1 Axes>"
      ]
     },
     "metadata": {
      "needs_background": "light"
     },
     "output_type": "display_data"
    }
   ],
   "source": [
    "fig, ax = plt.subplots(figsize=(5,5))\n",
    "ax.plot(x_DFT, y_DFT, 'r--')\n",
    "ax.plot(x_table, y_table, 'k-')\n",
    "ax.set_aspect('equal', 'datalim')\n",
    "xmin, xmax = xlim()\n",
    "ymin, ymax = ylim()"
   ]
  },
  {
   "cell_type": "markdown",
   "metadata": {},
   "source": [
    "### Create animation"
   ]
  },
  {
   "cell_type": "code",
   "execution_count": 55,
   "metadata": {},
   "outputs": [
    {
     "data": {
      "image/png": "[encoded data removed]",
      "text/plain": [
       "<Figure size 432x288 with 1 Axes>"
      ]
     },
     "metadata": {
      "needs_background": "light"
     },
     "output_type": "display_data"
    }
   ],
   "source": [
    "order = 10\n",
    "anim = visualize(x_DFT, y_DFT, coef, order, space, [xmin, xmax, ymin, ymax])\n",
    "Writer = animation.writers['html']\n",
    "writer = Writer(fps=75)\n",
    "anim.save('dwa.html', writer=writer, dpi=150)"
   ]
  },
  {
   "cell_type": "code",
   "execution_count": null,
   "metadata": {},
   "outputs": [],
   "source": []
  }
 ],
 "metadata": {
  "kernelspec": {
   "display_name": "Python 3",
   "language": "python",
   "name": "python3"
  },
  "language_info": {
   "codemirror_mode": {
    "name": "ipython",
    "version": 3
   },
   "file_extension": ".py",
   "mimetype": "text/x-python",
   "name": "python",
   "nbconvert_exporter": "python",
   "pygments_lexer": "ipython3",
   "version": "3.7.4"
  }
 },
 "nbformat": 4,
 "nbformat_minor": 2
}
