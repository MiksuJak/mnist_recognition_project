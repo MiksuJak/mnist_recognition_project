{
 "cells": [
  {
   "cell_type": "markdown",
   "metadata": {},
   "source": [
    "# Libraries and DATA"
   ]
  },
  {
   "cell_type": "code",
   "execution_count": 1,
   "metadata": {},
   "outputs": [],
   "source": [
    "from visualizations import *\n",
    "import numpy as np\n",
    "import pandas as pd\n",
    "import warnings\n",
    "from math import tau\n",
    "import matplotlib.pyplot as plt\n",
    "from scipy.integrate import quad\n",
    "warnings.filterwarnings('ignore')"
   ]
  },
  {
   "cell_type": "code",
   "execution_count": 2,
   "metadata": {},
   "outputs": [],
   "source": [
    "data = np.loadtxt(\"./../DATA/digits2k_pixels.data.gz\", ndmin=2)/255.0\n",
    "data.shape = (data.shape[0], int(np.sqrt(data.shape[1])), int(np.sqrt(data.shape[1])))\n",
    "labels = np.loadtxt(\"./../DATA/digits2k_pixels.labels.gz\", dtype='int')"
   ]
  },
  {
   "cell_type": "code",
   "execution_count": 3,
   "metadata": {},
   "outputs": [],
   "source": [
    "centroid_distances = np.load('centroid_distances_N_50.npy')"
   ]
  },
  {
   "cell_type": "markdown",
   "metadata": {},
   "source": [
    "# Needed functions"
   ]
  },
  {
   "cell_type": "code",
   "execution_count": 4,
   "metadata": {},
   "outputs": [],
   "source": [
    "def determineClusterDigit(labels_true, labels_pred, cluster_num):\n",
    "    real_labels, counts = np.unique(labels[labels_pred == cluster_num], return_counts=True)\n",
    "    if len(real_labels) == 0:\n",
    "        return -1\n",
    "    return real_labels[np.argmax(counts)]\n",
    "\n",
    "def assignRealLabels(labels_pred, labels_true):\n",
    "    label_mapping = dict()\n",
    "    n_clusters = max(labels_pred)+1\n",
    "    for i in range(n_clusters):\n",
    "        label_mapping[i] = determineClusterDigit(labels_true, labels_pred, i)\n",
    "    \n",
    "    labels_final_prediction = pd.Series(labels_pred)\n",
    "    labels_final_prediction = labels_final_prediction.map(label_mapping)\n",
    "    return labels_final_prediction, label_mapping"
   ]
  },
  {
   "cell_type": "code",
   "execution_count": 5,
   "metadata": {},
   "outputs": [],
   "source": [
    "# Precision one vs all\n",
    "def calcPrecision(labels_true, labels_final_prediction):\n",
    "    digits = [0, 1, 2, 3, 4, 5, 6, 7, 8, 9]\n",
    "    precisions = []\n",
    "    sum_all = 0\n",
    "    for d in digits:\n",
    "        all_d = 0\n",
    "        good_d = 0\n",
    "        for i in range(len(labels_true)):\n",
    "            if labels_true[i] == d:\n",
    "                all_d += 1\n",
    "                if labels_final_prediction[i] == d:\n",
    "                    good_d += 1\n",
    "        precisions.append( (d, good_d/all_d) )\n",
    "        sum_all += good_d/all_d\n",
    "    precisions.append( ('average', sum_all/10) )\n",
    "    return precisions"
   ]
  },
  {
   "cell_type": "markdown",
   "metadata": {},
   "source": [
    "# Model (Ward)"
   ]
  },
  {
   "cell_type": "code",
   "execution_count": 6,
   "metadata": {},
   "outputs": [],
   "source": [
    "from sklearn.cluster import AgglomerativeClustering"
   ]
  },
  {
   "cell_type": "code",
   "execution_count": 7,
   "metadata": {},
   "outputs": [
    {
     "data": {
      "text/plain": [
       "AgglomerativeClustering(affinity='euclidean', compute_full_tree='auto',\n",
       "                        connectivity=None, distance_threshold=None,\n",
       "                        linkage='ward', memory=None, n_clusters=70)"
      ]
     },
     "execution_count": 7,
     "metadata": {},
     "output_type": "execute_result"
    }
   ],
   "source": [
    "model = AgglomerativeClustering(n_clusters = 70)\n",
    "model.fit(centroid_distances)"
   ]
  },
  {
   "cell_type": "code",
   "execution_count": 8,
   "metadata": {},
   "outputs": [],
   "source": [
    "labels_pred = model.labels_\n",
    "n_clusters = max(model.labels_)\n",
    "labels_final_prediction, label_mapping = assignRealLabels(labels_pred, labels)"
   ]
  },
  {
   "cell_type": "code",
   "execution_count": 9,
   "metadata": {},
   "outputs": [
    {
     "data": {
      "text/plain": [
       "[(0, 0.9057591623036649),\n",
       " (1, 0.9545454545454546),\n",
       " (2, 0.6666666666666666),\n",
       " (3, 0.8952879581151832),\n",
       " (4, 0.9205607476635514),\n",
       " (5, 0.6666666666666666),\n",
       " (6, 0.885),\n",
       " (7, 0.7098214285714286),\n",
       " (8, 0.6162790697674418),\n",
       " (9, 0.7142857142857143),\n",
       " ('average', 0.7934872868585773)]"
      ]
     },
     "execution_count": 9,
     "metadata": {},
     "output_type": "execute_result"
    }
   ],
   "source": [
    "calcPrecision(labels, labels_final_prediction)"
   ]
  },
  {
   "cell_type": "markdown",
   "metadata": {},
   "source": [
    "# Model (Affinity Propagation)"
   ]
  },
  {
   "cell_type": "code",
   "execution_count": 10,
   "metadata": {},
   "outputs": [],
   "source": [
    "from sklearn.cluster import AffinityPropagation\n",
    "from sklearn.metrics import precision_score"
   ]
  },
  {
   "cell_type": "code",
   "execution_count": 11,
   "metadata": {},
   "outputs": [
    {
     "data": {
      "text/plain": [
       "AffinityPropagation(affinity='euclidean', convergence_iter=15, copy=True,\n",
       "                    damping=0.5, max_iter=200, preference=None, verbose=False)"
      ]
     },
     "execution_count": 11,
     "metadata": {},
     "output_type": "execute_result"
    }
   ],
   "source": [
    "model = AffinityPropagation()\n",
    "model.fit(centroid_distances)"
   ]
  },
  {
   "cell_type": "code",
   "execution_count": 12,
   "metadata": {},
   "outputs": [
    {
     "data": {
      "text/plain": [
       "89"
      ]
     },
     "execution_count": 12,
     "metadata": {},
     "output_type": "execute_result"
    }
   ],
   "source": [
    "max(model.labels_)"
   ]
  },
  {
   "cell_type": "code",
   "execution_count": 13,
   "metadata": {},
   "outputs": [],
   "source": [
    "labels_pred = model.labels_\n",
    "n_clusters = max(model.labels_)\n",
    "labels_final_prediction, label_mapping = assignRealLabels(labels_pred, labels)"
   ]
  },
  {
   "cell_type": "code",
   "execution_count": 14,
   "metadata": {},
   "outputs": [
    {
     "data": {
      "text/plain": [
       "0.79"
      ]
     },
     "execution_count": 14,
     "metadata": {},
     "output_type": "execute_result"
    }
   ],
   "source": [
    "precision_score(y_true = labels, y_pred = labels_final_prediction, average='micro')"
   ]
  },
  {
   "cell_type": "code",
   "execution_count": 15,
   "metadata": {},
   "outputs": [
    {
     "data": {
      "text/plain": [
       "[(0, 0.9267015706806283),\n",
       " (1, 0.9727272727272728),\n",
       " (2, 0.51010101010101),\n",
       " (3, 0.837696335078534),\n",
       " (4, 0.8925233644859814),\n",
       " (5, 0.5444444444444444),\n",
       " (6, 0.92),\n",
       " (7, 0.7410714285714286),\n",
       " (8, 0.6976744186046512),\n",
       " (9, 0.8047619047619048),\n",
       " ('average', 0.7847701749455855)]"
      ]
     },
     "execution_count": 15,
     "metadata": {},
     "output_type": "execute_result"
    }
   ],
   "source": [
    "calcPrecision(labels, labels_final_prediction)"
   ]
  },
  {
   "cell_type": "markdown",
   "metadata": {},
   "source": [
    "# Predict Custom Number"
   ]
  },
  {
   "cell_type": "code",
   "execution_count": 16,
   "metadata": {},
   "outputs": [],
   "source": [
    "import numpy as np\n",
    "from skimage import io\n",
    "from skimage.transform import resize\n",
    "from transform_digit import *"
   ]
  },
  {
   "cell_type": "code",
   "execution_count": 28,
   "metadata": {},
   "outputs": [
    {
     "data": {
      "text/plain": [
       "<matplotlib.image.AxesImage at 0x7fae3b739850>"
      ]
     },
     "execution_count": 28,
     "metadata": {},
     "output_type": "execute_result"
    },
    {
     "data": {
      "image/png": "[encoded data removed]",
      "text/plain": [
       "<Figure size 432x288 with 1 Axes>"
      ]
     },
     "metadata": {
      "needs_background": "light"
     },
     "output_type": "display_data"
    }
   ],
   "source": [
    "painted = io.imread(\"./test_new.png\", as_gray = True)\n",
    "plt.imshow(painted, cmap=plt.get_cmap(\"gray\"))"
   ]
  },
  {
   "cell_type": "code",
   "execution_count": 30,
   "metadata": {},
   "outputs": [],
   "source": [
    "centr_distances_test = transformToDistances(painted)\n",
    "plt.close()"
   ]
  },
  {
   "cell_type": "code",
   "execution_count": 31,
   "metadata": {},
   "outputs": [
    {
     "data": {
      "text/plain": [
       "54"
      ]
     },
     "execution_count": 31,
     "metadata": {},
     "output_type": "execute_result"
    }
   ],
   "source": [
    "primal_label = model.predict([centr_distances_test])[0]\n",
    "primal_label"
   ]
  },
  {
   "cell_type": "code",
   "execution_count": 32,
   "metadata": {},
   "outputs": [
    {
     "data": {
      "text/plain": [
       "7"
      ]
     },
     "execution_count": 32,
     "metadata": {},
     "output_type": "execute_result"
    }
   ],
   "source": [
    "true_label = label_mapping[primal_label]\n",
    "true_label"
   ]
  },
  {
   "cell_type": "markdown",
   "metadata": {},
   "source": [
    "# Looking Through Clusters"
   ]
  },
  {
   "cell_type": "code",
   "execution_count": 33,
   "metadata": {},
   "outputs": [],
   "source": [
    "def DisplaySampleOfDigit(digit, nrow=10, ncol=10):\n",
    "    n = nrow*ncol\n",
    "    positions_of_digit = np.where(labels_pred == digit)\n",
    "    positions_of_digit = positions_of_digit[0] # upper function returned a tuple\n",
    "    # random selection of n positions\n",
    "    np.random.shuffle(positions_of_digit)\n",
    "    positions_to_use = positions_of_digit[0:n]\n",
    "    # setting up image display\n",
    "    fig, axs = plt.subplots(nrow, ncol, figsize=(20, 20))\n",
    "    \n",
    "    for i in range(nrow):\n",
    "        for j in range(ncol):\n",
    "            axs[i, j].imshow(data[positions_to_use[i*nrow+j],:,:], cmap=plt.get_cmap(\"gray\"))"
   ]
  },
  {
   "cell_type": "code",
   "execution_count": 37,
   "metadata": {},
   "outputs": [
    {
     "ename": "IndexError",
     "evalue": "index 40 is out of bounds for axis 0 with size 40",
     "output_type": "error",
     "traceback": [
      "\u001b[0;31m---------------------------------------------------------------------------\u001b[0m",
      "\u001b[0;31mIndexError\u001b[0m                                Traceback (most recent call last)",
      "\u001b[0;32m<ipython-input-37-850e5af68f03>\u001b[0m in \u001b[0;36m<module>\u001b[0;34m\u001b[0m\n\u001b[0;32m----> 1\u001b[0;31m \u001b[0mDisplaySampleOfDigit\u001b[0m\u001b[0;34m(\u001b[0m\u001b[0;36m6\u001b[0m\u001b[0;34m)\u001b[0m\u001b[0;34m\u001b[0m\u001b[0;34m\u001b[0m\u001b[0m\n\u001b[0m",
      "\u001b[0;32m<ipython-input-33-894553a4670b>\u001b[0m in \u001b[0;36mDisplaySampleOfDigit\u001b[0;34m(digit, nrow, ncol)\u001b[0m\n\u001b[1;32m     11\u001b[0m     \u001b[0;32mfor\u001b[0m \u001b[0mi\u001b[0m \u001b[0;32min\u001b[0m \u001b[0mrange\u001b[0m\u001b[0;34m(\u001b[0m\u001b[0mnrow\u001b[0m\u001b[0;34m)\u001b[0m\u001b[0;34m:\u001b[0m\u001b[0;34m\u001b[0m\u001b[0;34m\u001b[0m\u001b[0m\n\u001b[1;32m     12\u001b[0m         \u001b[0;32mfor\u001b[0m \u001b[0mj\u001b[0m \u001b[0;32min\u001b[0m \u001b[0mrange\u001b[0m\u001b[0;34m(\u001b[0m\u001b[0mncol\u001b[0m\u001b[0;34m)\u001b[0m\u001b[0;34m:\u001b[0m\u001b[0;34m\u001b[0m\u001b[0;34m\u001b[0m\u001b[0m\n\u001b[0;32m---> 13\u001b[0;31m             \u001b[0maxs\u001b[0m\u001b[0;34m[\u001b[0m\u001b[0mi\u001b[0m\u001b[0;34m,\u001b[0m \u001b[0mj\u001b[0m\u001b[0;34m]\u001b[0m\u001b[0;34m.\u001b[0m\u001b[0mimshow\u001b[0m\u001b[0;34m(\u001b[0m\u001b[0mdata\u001b[0m\u001b[0;34m[\u001b[0m\u001b[0mpositions_to_use\u001b[0m\u001b[0;34m[\u001b[0m\u001b[0mi\u001b[0m\u001b[0;34m*\u001b[0m\u001b[0mnrow\u001b[0m\u001b[0;34m+\u001b[0m\u001b[0mj\u001b[0m\u001b[0;34m]\u001b[0m\u001b[0;34m,\u001b[0m\u001b[0;34m:\u001b[0m\u001b[0;34m,\u001b[0m\u001b[0;34m:\u001b[0m\u001b[0;34m]\u001b[0m\u001b[0;34m,\u001b[0m \u001b[0mcmap\u001b[0m\u001b[0;34m=\u001b[0m\u001b[0mplt\u001b[0m\u001b[0;34m.\u001b[0m\u001b[0mget_cmap\u001b[0m\u001b[0;34m(\u001b[0m\u001b[0;34m\"gray\"\u001b[0m\u001b[0;34m)\u001b[0m\u001b[0;34m)\u001b[0m\u001b[0;34m\u001b[0m\u001b[0;34m\u001b[0m\u001b[0m\n\u001b[0m",
      "\u001b[0;31mIndexError\u001b[0m: index 40 is out of bounds for axis 0 with size 40"
     ]
    },
    {
     "data": {
      "image/png": "[encoded data removed]",
      "text/plain": [
       "<Figure size 1440x1440 with 100 Axes>"
      ]
     },
     "metadata": {
      "needs_background": "light"
     },
     "output_type": "display_data"
    }
   ],
   "source": [
    "DisplaySampleOfDigit(6)"
   ]
  },
  {
   "cell_type": "code",
   "execution_count": 38,
   "metadata": {},
   "outputs": [
    {
     "name": "stdout",
     "output_type": "stream",
     "text": [
      "0 16\n",
      "1 6\n",
      "2 11\n",
      "3 32\n",
      "4 23\n",
      "5 59\n",
      "6 40\n",
      "7 34\n",
      "8 23\n",
      "9 21\n",
      "10 9\n",
      "11 17\n",
      "12 7\n",
      "13 16\n",
      "14 20\n",
      "15 15\n",
      "16 8\n",
      "17 38\n",
      "18 10\n",
      "19 14\n",
      "20 29\n",
      "21 28\n",
      "22 87\n",
      "23 11\n",
      "24 18\n",
      "25 57\n",
      "26 25\n",
      "27 21\n",
      "28 6\n",
      "29 40\n",
      "30 9\n",
      "31 16\n",
      "32 17\n",
      "33 17\n",
      "34 41\n",
      "35 23\n",
      "36 12\n",
      "37 23\n",
      "38 19\n",
      "39 10\n",
      "40 17\n",
      "41 14\n",
      "42 4\n",
      "43 14\n",
      "44 12\n",
      "45 11\n",
      "46 9\n",
      "47 40\n",
      "48 17\n",
      "49 19\n",
      "50 37\n",
      "51 33\n",
      "52 10\n",
      "53 32\n",
      "54 36\n",
      "55 15\n",
      "56 9\n",
      "57 11\n",
      "58 6\n",
      "59 18\n",
      "60 86\n",
      "61 11\n",
      "62 19\n",
      "63 10\n",
      "64 15\n",
      "65 20\n",
      "66 27\n",
      "67 20\n",
      "68 15\n",
      "69 25\n",
      "70 29\n",
      "71 11\n",
      "72 9\n",
      "73 21\n",
      "74 23\n",
      "75 14\n",
      "76 20\n",
      "77 26\n",
      "78 30\n",
      "79 11\n",
      "80 14\n",
      "81 57\n",
      "82 17\n",
      "83 11\n",
      "84 18\n",
      "85 38\n",
      "86 21\n",
      "87 30\n",
      "88 27\n",
      "89 33\n",
      "42\n"
     ]
    }
   ],
   "source": [
    "counts = np.bincount(labels_pred)\n",
    "for i in range(len(counts)):\n",
    "    print(i, counts[i])\n",
    "\n",
    "print(np.argmin(counts))"
   ]
  },
  {
   "cell_type": "code",
   "execution_count": null,
   "metadata": {},
   "outputs": [],
   "source": []
  }
 ],
 "metadata": {
  "kernelspec": {
   "display_name": "Python 3",
   "language": "python",
   "name": "python3"
  },
  "language_info": {
   "codemirror_mode": {
    "name": "ipython",
    "version": 3
   },
   "file_extension": ".py",
   "mimetype": "text/x-python",
   "name": "python",
   "nbconvert_exporter": "python",
   "pygments_lexer": "ipython3",
   "version": "3.7.6"
  }
 },
 "nbformat": 4,
 "nbformat_minor": 2
}
