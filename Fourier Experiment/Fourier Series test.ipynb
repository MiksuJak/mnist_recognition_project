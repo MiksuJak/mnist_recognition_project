{
 "cells": [
  {
   "cell_type": "markdown",
   "metadata": {},
   "source": [
    "# Import Libraries"
   ]
  },
  {
   "cell_type": "code",
   "execution_count": 76,
   "metadata": {},
   "outputs": [],
   "source": [
    "from visualizations import *\n",
    "import numpy as np\n",
    "import pandas as pd\n",
    "import warnings\n",
    "from math import tau\n",
    "from scipy.integrate import quad\n",
    "warnings.filterwarnings('ignore')"
   ]
  },
  {
   "cell_type": "markdown",
   "metadata": {},
   "source": [
    "## Load data"
   ]
  },
  {
   "cell_type": "code",
   "execution_count": 77,
   "metadata": {},
   "outputs": [],
   "source": [
    "data = np.loadtxt(\"./../DATA/digits2k_pixels.data.gz\", ndmin=2)/255.0\n",
    "data.shape = (data.shape[0], int(np.sqrt(data.shape[1])), int(np.sqrt(data.shape[1])))\n",
    "labels = np.loadtxt(\"./../DATA/digits2k_pixels.labels.gz\", dtype='int')"
   ]
  },
  {
   "cell_type": "code",
   "execution_count": 78,
   "metadata": {},
   "outputs": [
    {
     "data": {
      "text/plain": [
       "<matplotlib.image.AxesImage at 0x237069dc0c8>"
      ]
     },
     "execution_count": 78,
     "metadata": {},
     "output_type": "execute_result"
    },
    {
     "data": {
      "image/png": "[encoded data removed]",
      "text/plain": [
       "<Figure size 432x288 with 1 Axes>"
      ]
     },
     "metadata": {
      "needs_background": "light"
     },
     "output_type": "display_data"
    }
   ],
   "source": [
    "i = 49\n",
    "plt.imshow(data[i,:,:], cmap=plt.get_cmap(\"gray\"))"
   ]
  },
  {
   "cell_type": "markdown",
   "metadata": {},
   "source": [
    "## Function to transform to binary matrix"
   ]
  },
  {
   "cell_type": "code",
   "execution_count": 79,
   "metadata": {},
   "outputs": [],
   "source": [
    "def onlyBlackWhite(array, threshold = 0.01):\n",
    "    result = array.copy()\n",
    "    for i in range(len(result)):\n",
    "        for j in range(len(result[0])):\n",
    "            if (result[i,j] < threshold):\n",
    "                result[i,j] = 0\n",
    "            else:\n",
    "                result[i,j] = 1\n",
    "    return result"
   ]
  },
  {
   "cell_type": "code",
   "execution_count": 80,
   "metadata": {},
   "outputs": [],
   "source": [
    "copied = onlyBlackWhite(data[i,:,:])"
   ]
  },
  {
   "cell_type": "code",
   "execution_count": 81,
   "metadata": {},
   "outputs": [
    {
     "data": {
      "text/plain": [
       "<matplotlib.image.AxesImage at 0x2370679e308>"
      ]
     },
     "execution_count": 81,
     "metadata": {},
     "output_type": "execute_result"
    },
    {
     "data": {
      "image/png": "[encoded data removed]",
      "text/plain": [
       "<Figure size 432x288 with 1 Axes>"
      ]
     },
     "metadata": {
      "needs_background": "light"
     },
     "output_type": "display_data"
    }
   ],
   "source": [
    "plt.imshow(copied, cmap=plt.get_cmap(\"gray\"))"
   ]
  },
  {
   "cell_type": "markdown",
   "metadata": {},
   "source": [
    "## Getting contour points of image"
   ]
  },
  {
   "cell_type": "code",
   "execution_count": 82,
   "metadata": {},
   "outputs": [
    {
     "data": {
      "image/png": "[encoded data removed]",
      "text/plain": [
       "<Figure size 720x360 with 2 Axes>"
      ]
     },
     "metadata": {
      "needs_background": "light"
     },
     "output_type": "display_data"
    }
   ],
   "source": [
    "time_table, x_table, y_table = create_close_loop(copied)"
   ]
  },
  {
   "cell_type": "markdown",
   "metadata": {},
   "source": [
    "# Finding Fourier coefficients"
   ]
  },
  {
   "cell_type": "markdown",
   "metadata": {},
   "source": [
    "## $c_{n}=\\frac{1}{2\\pi}\\int_{0}^{2\\pi}f(t)e^{-jnt}dt$\n",
    "## $f(t)=\\sum_{n=-\\infty}^{\\infty}c_{n}e^{-jnt}$"
   ]
  },
  {
   "cell_type": "markdown",
   "metadata": {},
   "source": [
    "Of course to get $f(t)$ we first need to somehow know $f(t)$. We know that $f$ is a function of $t\\in[0,2\\pi]$(treated as time) and returns a complex number corresponding to a point location. To get $c_{n}$(Fourier coefficients), we will aproximate $f$ values for each $n$ with the function below.  \n",
    "Of course $tau=2\\pi$"
   ]
  },
  {
   "cell_type": "code",
   "execution_count": 69,
   "metadata": {},
   "outputs": [],
   "source": [
    "time_table = np.linspace(0, tau, len(x_table)) # arguments for aproximated f function"
   ]
  },
  {
   "cell_type": "code",
   "execution_count": 70,
   "metadata": {},
   "outputs": [],
   "source": [
    "def f(t, time_table, x_table, y_table):\n",
    "    return interp(t, time_table, x_table) + 1j*interp(t, time_table, y_table)"
   ]
  },
  {
   "cell_type": "markdown",
   "metadata": {},
   "source": [
    "### Coefficients finding function"
   ]
  },
  {
   "cell_type": "markdown",
   "metadata": {},
   "source": [
    "Since $f(t)$ results in $z = a+bj$  \n",
    "$c_{n}=\\frac{1}{2\\pi}\\int_{0}^{2\\pi}f(t)e^{-jnt}dt=\\frac{1}{2\\pi}\\int_{0}^{2\\pi}ae^{-jnt}+bjae^{-jnt}dt=$"
   ]
  },
  {
   "cell_type": "code",
   "execution_count": 71,
   "metadata": {},
   "outputs": [],
   "source": [
    "def coef_list(time_table, x_table, y_table, order=10):\n",
    "    \"\"\"\n",
    "    Counting c_n coefficients of Fourier series, of function aproximated by points (time_table, x_table + j*y_table)\n",
    "    of order of magnitude = order\n",
    "    \"\"\"\n",
    "    coef_list = []\n",
    "    for n in range(-order, order+1):\n",
    "        real_coef = quad(lambda t: np.real(f(t, time_table, x_table, y_table) * np.exp(-n*1j*t)), 0, tau, limit=100, full_output=1)[0]/tau\n",
    "        imag_coef = quad(lambda t: np.imag(f(t, time_table, x_table, y_table) * np.exp(-n*1j*t)), 0, tau, limit=100, full_output=1)[0]/tau\n",
    "        coef_list.append([real_coef, imag_coef])\n",
    "    return np.array(coef_list)"
   ]
  },
  {
   "cell_type": "code",
   "execution_count": 72,
   "metadata": {},
   "outputs": [
    {
     "name": "stdout",
     "output_type": "stream",
     "text": [
      "[[-9.17267748e-03  3.09740366e-02]\n",
      " [-5.83003614e-02  1.09471610e-01]\n",
      " [-5.15018274e-02  1.33919158e-01]\n",
      " [ 3.86734033e-02  2.47714638e-01]\n",
      " [-5.86410070e-01 -2.39226127e-01]\n",
      " [ 1.11016799e-02  5.48941777e-01]\n",
      " [ 7.09869301e-01  4.19219739e-01]\n",
      " [-1.32914472e+00  9.62780166e-01]\n",
      " [-1.62197819e+00  4.71837408e-02]\n",
      " [ 5.34325957e+00  6.40390338e+00]\n",
      " [ 7.71603208e-01  6.60493807e-01]\n",
      " [-1.40503593e-01 -1.53093099e+00]\n",
      " [ 1.14859327e+00  1.33105879e+00]\n",
      " [ 1.09168992e+00  1.06351316e+00]\n",
      " [-4.83335013e-01  5.98374969e-03]\n",
      " [-4.73612954e-02  1.51169363e-01]\n",
      " [-1.79597635e-01 -8.18090063e-02]\n",
      " [ 5.42432468e-02  7.12055119e-02]\n",
      " [-2.58012370e-02 -3.15749125e-02]\n",
      " [-6.33029354e-03 -3.49229360e-02]\n",
      " [ 3.43032465e-02  4.16171439e-02]]\n"
     ]
    }
   ],
   "source": [
    "coef = coef_list(time_table, x_table, y_table)\n",
    "print(coef)"
   ]
  },
  {
   "cell_type": "markdown",
   "metadata": {},
   "source": [
    "These are counted coefficients for shape of imported image, which will be further used to compare images. Fortunately Fourier Series can be treated as simmilar whenever their coefficients are close to each other."
   ]
  },
  {
   "cell_type": "markdown",
   "metadata": {},
   "source": [
    "## Visualize"
   ]
  },
  {
   "cell_type": "markdown",
   "metadata": {},
   "source": [
    "### Calculate points to plot by aproximated Fourier series"
   ]
  },
  {
   "cell_type": "code",
   "execution_count": 73,
   "metadata": {},
   "outputs": [],
   "source": [
    "space = np.linspace(0, tau, 300)\n",
    "x_DFT = [DFT(t, coef)[0] for t in space]\n",
    "y_DFT = [DFT(t, coef)[1] for t in space]"
   ]
  },
  {
   "cell_type": "markdown",
   "metadata": {},
   "source": [
    "### Draw contour(black) and aproximated Fourier line(red)"
   ]
  },
  {
   "cell_type": "code",
   "execution_count": 74,
   "metadata": {},
   "outputs": [
    {
     "data": {
      "image/png": "[encoded data removed]",
      "text/plain": [
       "<Figure size 360x360 with 1 Axes>"
      ]
     },
     "metadata": {
      "needs_background": "light"
     },
     "output_type": "display_data"
    }
   ],
   "source": [
    "fig, ax = plt.subplots(figsize=(5,5))\n",
    "ax.plot(x_DFT, y_DFT, 'r--')\n",
    "ax.plot(x_table, y_table, 'k-')\n",
    "ax.set_aspect('equal', 'datalim')\n",
    "xmin, xmax = xlim()\n",
    "ymin, ymax = ylim()"
   ]
  },
  {
   "cell_type": "markdown",
   "metadata": {},
   "source": [
    "### Create animation"
   ]
  },
  {
   "cell_type": "code",
   "execution_count": 75,
   "metadata": {},
   "outputs": [
    {
     "data": {
      "image/png": "[encoded data removed]",
      "text/plain": [
       "<Figure size 432x288 with 1 Axes>"
      ]
     },
     "metadata": {
      "needs_background": "light"
     },
     "output_type": "display_data"
    }
   ],
   "source": [
    "order = 10\n",
    "anim = visualize(x_DFT, y_DFT, coef, order, space, [xmin, xmax, ymin, ymax])\n",
    "Writer = animation.writers['html']\n",
    "writer = Writer(fps=75)\n",
    "anim.save('dwa.html', writer=writer, dpi=150)"
   ]
  }
 ],
 "metadata": {
  "kernelspec": {
   "display_name": "Python 3",
   "language": "python",
   "name": "python3"
  },
  "language_info": {
   "codemirror_mode": {
    "name": "ipython",
    "version": 3
   },
   "file_extension": ".py",
   "mimetype": "text/x-python",
   "name": "python",
   "nbconvert_exporter": "python",
   "pygments_lexer": "ipython3",
   "version": "3.7.4"
  }
 },
 "nbformat": 4,
 "nbformat_minor": 2
}
